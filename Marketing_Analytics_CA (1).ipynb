{
  "nbformat": 4,
  "nbformat_minor": 0,
  "metadata": {
    "colab": {
      "provenance": []
    },
    "kernelspec": {
      "name": "python3",
      "display_name": "Python 3"
    },
    "language_info": {
      "name": "python"
    }
  },
  "cells": [
    {
      "cell_type": "markdown",
      "source": [
        "to assess the game effectiveness, you can calculate one-day retention for both A-B groups and compare them to identify any significant differences. You can also determine the probability of such differences occurring."
      ],
      "metadata": {
        "id": "tdDbzDmlDQqo"
      }
    },
    {
      "cell_type": "code",
      "source": [
        "import numpy as np\n",
        "import pandas as pd "
      ],
      "metadata": {
        "id": "oRqVyf72qXrl"
      },
      "execution_count": null,
      "outputs": []
    },
    {
      "cell_type": "code",
      "execution_count": null,
      "metadata": {
        "id": "TXK3b88cpS16"
      },
      "outputs": [],
      "source": [
        "df = pd.read_csv(\"candy_crush.csv\")"
      ]
    },
    {
      "cell_type": "code",
      "source": [
        "df.head(10)"
      ],
      "metadata": {
        "id": "KSh2IX_oqhLh",
        "colab": {
          "base_uri": "https://localhost:8080/",
          "height": 363
        },
        "outputId": "e14fa516-2f06-4e1b-f604-7637b823dd29"
      },
      "execution_count": null,
      "outputs": [
        {
          "output_type": "execute_result",
          "data": {
            "text/plain": [
              "   user_id  gate  gamerounds_sum  retention_day  retention_week\n",
              "0      116    30               3          False           False\n",
              "1      337    30              38           True           False\n",
              "2      377    50             165           True           False\n",
              "3      483    50               1          False           False\n",
              "4      488    50             179           True            True\n",
              "5      540    50             187           True            True\n",
              "6     1066    30               0          False           False\n",
              "7     1444    50               2          False           False\n",
              "8     1574    50             108           True            True\n",
              "9     1587    50             153           True           False"
            ],
            "text/html": [
              "\n",
              "  <div id=\"df-c4c8b1a1-7d18-413f-8f01-fcb65c325070\">\n",
              "    <div class=\"colab-df-container\">\n",
              "      <div>\n",
              "<style scoped>\n",
              "    .dataframe tbody tr th:only-of-type {\n",
              "        vertical-align: middle;\n",
              "    }\n",
              "\n",
              "    .dataframe tbody tr th {\n",
              "        vertical-align: top;\n",
              "    }\n",
              "\n",
              "    .dataframe thead th {\n",
              "        text-align: right;\n",
              "    }\n",
              "</style>\n",
              "<table border=\"1\" class=\"dataframe\">\n",
              "  <thead>\n",
              "    <tr style=\"text-align: right;\">\n",
              "      <th></th>\n",
              "      <th>user_id</th>\n",
              "      <th>gate</th>\n",
              "      <th>gamerounds_sum</th>\n",
              "      <th>retention_day</th>\n",
              "      <th>retention_week</th>\n",
              "    </tr>\n",
              "  </thead>\n",
              "  <tbody>\n",
              "    <tr>\n",
              "      <th>0</th>\n",
              "      <td>116</td>\n",
              "      <td>30</td>\n",
              "      <td>3</td>\n",
              "      <td>False</td>\n",
              "      <td>False</td>\n",
              "    </tr>\n",
              "    <tr>\n",
              "      <th>1</th>\n",
              "      <td>337</td>\n",
              "      <td>30</td>\n",
              "      <td>38</td>\n",
              "      <td>True</td>\n",
              "      <td>False</td>\n",
              "    </tr>\n",
              "    <tr>\n",
              "      <th>2</th>\n",
              "      <td>377</td>\n",
              "      <td>50</td>\n",
              "      <td>165</td>\n",
              "      <td>True</td>\n",
              "      <td>False</td>\n",
              "    </tr>\n",
              "    <tr>\n",
              "      <th>3</th>\n",
              "      <td>483</td>\n",
              "      <td>50</td>\n",
              "      <td>1</td>\n",
              "      <td>False</td>\n",
              "      <td>False</td>\n",
              "    </tr>\n",
              "    <tr>\n",
              "      <th>4</th>\n",
              "      <td>488</td>\n",
              "      <td>50</td>\n",
              "      <td>179</td>\n",
              "      <td>True</td>\n",
              "      <td>True</td>\n",
              "    </tr>\n",
              "    <tr>\n",
              "      <th>5</th>\n",
              "      <td>540</td>\n",
              "      <td>50</td>\n",
              "      <td>187</td>\n",
              "      <td>True</td>\n",
              "      <td>True</td>\n",
              "    </tr>\n",
              "    <tr>\n",
              "      <th>6</th>\n",
              "      <td>1066</td>\n",
              "      <td>30</td>\n",
              "      <td>0</td>\n",
              "      <td>False</td>\n",
              "      <td>False</td>\n",
              "    </tr>\n",
              "    <tr>\n",
              "      <th>7</th>\n",
              "      <td>1444</td>\n",
              "      <td>50</td>\n",
              "      <td>2</td>\n",
              "      <td>False</td>\n",
              "      <td>False</td>\n",
              "    </tr>\n",
              "    <tr>\n",
              "      <th>8</th>\n",
              "      <td>1574</td>\n",
              "      <td>50</td>\n",
              "      <td>108</td>\n",
              "      <td>True</td>\n",
              "      <td>True</td>\n",
              "    </tr>\n",
              "    <tr>\n",
              "      <th>9</th>\n",
              "      <td>1587</td>\n",
              "      <td>50</td>\n",
              "      <td>153</td>\n",
              "      <td>True</td>\n",
              "      <td>False</td>\n",
              "    </tr>\n",
              "  </tbody>\n",
              "</table>\n",
              "</div>\n",
              "      <button class=\"colab-df-convert\" onclick=\"convertToInteractive('df-c4c8b1a1-7d18-413f-8f01-fcb65c325070')\"\n",
              "              title=\"Convert this dataframe to an interactive table.\"\n",
              "              style=\"display:none;\">\n",
              "        \n",
              "  <svg xmlns=\"http://www.w3.org/2000/svg\" height=\"24px\"viewBox=\"0 0 24 24\"\n",
              "       width=\"24px\">\n",
              "    <path d=\"M0 0h24v24H0V0z\" fill=\"none\"/>\n",
              "    <path d=\"M18.56 5.44l.94 2.06.94-2.06 2.06-.94-2.06-.94-.94-2.06-.94 2.06-2.06.94zm-11 1L8.5 8.5l.94-2.06 2.06-.94-2.06-.94L8.5 2.5l-.94 2.06-2.06.94zm10 10l.94 2.06.94-2.06 2.06-.94-2.06-.94-.94-2.06-.94 2.06-2.06.94z\"/><path d=\"M17.41 7.96l-1.37-1.37c-.4-.4-.92-.59-1.43-.59-.52 0-1.04.2-1.43.59L10.3 9.45l-7.72 7.72c-.78.78-.78 2.05 0 2.83L4 21.41c.39.39.9.59 1.41.59.51 0 1.02-.2 1.41-.59l7.78-7.78 2.81-2.81c.8-.78.8-2.07 0-2.86zM5.41 20L4 18.59l7.72-7.72 1.47 1.35L5.41 20z\"/>\n",
              "  </svg>\n",
              "      </button>\n",
              "      \n",
              "  <style>\n",
              "    .colab-df-container {\n",
              "      display:flex;\n",
              "      flex-wrap:wrap;\n",
              "      gap: 12px;\n",
              "    }\n",
              "\n",
              "    .colab-df-convert {\n",
              "      background-color: #E8F0FE;\n",
              "      border: none;\n",
              "      border-radius: 50%;\n",
              "      cursor: pointer;\n",
              "      display: none;\n",
              "      fill: #1967D2;\n",
              "      height: 32px;\n",
              "      padding: 0 0 0 0;\n",
              "      width: 32px;\n",
              "    }\n",
              "\n",
              "    .colab-df-convert:hover {\n",
              "      background-color: #E2EBFA;\n",
              "      box-shadow: 0px 1px 2px rgba(60, 64, 67, 0.3), 0px 1px 3px 1px rgba(60, 64, 67, 0.15);\n",
              "      fill: #174EA6;\n",
              "    }\n",
              "\n",
              "    [theme=dark] .colab-df-convert {\n",
              "      background-color: #3B4455;\n",
              "      fill: #D2E3FC;\n",
              "    }\n",
              "\n",
              "    [theme=dark] .colab-df-convert:hover {\n",
              "      background-color: #434B5C;\n",
              "      box-shadow: 0px 1px 3px 1px rgba(0, 0, 0, 0.15);\n",
              "      filter: drop-shadow(0px 1px 2px rgba(0, 0, 0, 0.3));\n",
              "      fill: #FFFFFF;\n",
              "    }\n",
              "  </style>\n",
              "\n",
              "      <script>\n",
              "        const buttonEl =\n",
              "          document.querySelector('#df-c4c8b1a1-7d18-413f-8f01-fcb65c325070 button.colab-df-convert');\n",
              "        buttonEl.style.display =\n",
              "          google.colab.kernel.accessAllowed ? 'block' : 'none';\n",
              "\n",
              "        async function convertToInteractive(key) {\n",
              "          const element = document.querySelector('#df-c4c8b1a1-7d18-413f-8f01-fcb65c325070');\n",
              "          const dataTable =\n",
              "            await google.colab.kernel.invokeFunction('convertToInteractive',\n",
              "                                                     [key], {});\n",
              "          if (!dataTable) return;\n",
              "\n",
              "          const docLinkHtml = 'Like what you see? Visit the ' +\n",
              "            '<a target=\"_blank\" href=https://colab.research.google.com/notebooks/data_table.ipynb>data table notebook</a>'\n",
              "            + ' to learn more about interactive tables.';\n",
              "          element.innerHTML = '';\n",
              "          dataTable['output_type'] = 'display_data';\n",
              "          await google.colab.output.renderOutput(dataTable, element);\n",
              "          const docLink = document.createElement('div');\n",
              "          docLink.innerHTML = docLinkHtml;\n",
              "          element.appendChild(docLink);\n",
              "        }\n",
              "      </script>\n",
              "    </div>\n",
              "  </div>\n",
              "  "
            ]
          },
          "metadata": {},
          "execution_count": 3
        }
      ]
    },
    {
      "cell_type": "code",
      "source": [
        "df.describe()"
      ],
      "metadata": {
        "id": "lVWLChhfs1w4",
        "colab": {
          "base_uri": "https://localhost:8080/",
          "height": 300
        },
        "outputId": "089cdf26-eb2d-4d32-bd70-ccff0187d2a2"
      },
      "execution_count": null,
      "outputs": [
        {
          "output_type": "execute_result",
          "data": {
            "text/plain": [
              "            user_id          gate  gamerounds_sum\n",
              "count  9.018900e+04  90189.000000    90189.000000\n",
              "mean   4.998412e+06     40.087483       51.872457\n",
              "std    2.883286e+06      9.999673      195.050858\n",
              "min    1.160000e+02     30.000000        0.000000\n",
              "25%    2.512230e+06     30.000000        5.000000\n",
              "50%    4.995815e+06     50.000000       16.000000\n",
              "75%    7.496452e+06     50.000000       51.000000\n",
              "max    9.999861e+06     50.000000    49854.000000"
            ],
            "text/html": [
              "\n",
              "  <div id=\"df-34b26ac4-be32-488d-98d5-e5f0a59b3295\">\n",
              "    <div class=\"colab-df-container\">\n",
              "      <div>\n",
              "<style scoped>\n",
              "    .dataframe tbody tr th:only-of-type {\n",
              "        vertical-align: middle;\n",
              "    }\n",
              "\n",
              "    .dataframe tbody tr th {\n",
              "        vertical-align: top;\n",
              "    }\n",
              "\n",
              "    .dataframe thead th {\n",
              "        text-align: right;\n",
              "    }\n",
              "</style>\n",
              "<table border=\"1\" class=\"dataframe\">\n",
              "  <thead>\n",
              "    <tr style=\"text-align: right;\">\n",
              "      <th></th>\n",
              "      <th>user_id</th>\n",
              "      <th>gate</th>\n",
              "      <th>gamerounds_sum</th>\n",
              "    </tr>\n",
              "  </thead>\n",
              "  <tbody>\n",
              "    <tr>\n",
              "      <th>count</th>\n",
              "      <td>9.018900e+04</td>\n",
              "      <td>90189.000000</td>\n",
              "      <td>90189.000000</td>\n",
              "    </tr>\n",
              "    <tr>\n",
              "      <th>mean</th>\n",
              "      <td>4.998412e+06</td>\n",
              "      <td>40.087483</td>\n",
              "      <td>51.872457</td>\n",
              "    </tr>\n",
              "    <tr>\n",
              "      <th>std</th>\n",
              "      <td>2.883286e+06</td>\n",
              "      <td>9.999673</td>\n",
              "      <td>195.050858</td>\n",
              "    </tr>\n",
              "    <tr>\n",
              "      <th>min</th>\n",
              "      <td>1.160000e+02</td>\n",
              "      <td>30.000000</td>\n",
              "      <td>0.000000</td>\n",
              "    </tr>\n",
              "    <tr>\n",
              "      <th>25%</th>\n",
              "      <td>2.512230e+06</td>\n",
              "      <td>30.000000</td>\n",
              "      <td>5.000000</td>\n",
              "    </tr>\n",
              "    <tr>\n",
              "      <th>50%</th>\n",
              "      <td>4.995815e+06</td>\n",
              "      <td>50.000000</td>\n",
              "      <td>16.000000</td>\n",
              "    </tr>\n",
              "    <tr>\n",
              "      <th>75%</th>\n",
              "      <td>7.496452e+06</td>\n",
              "      <td>50.000000</td>\n",
              "      <td>51.000000</td>\n",
              "    </tr>\n",
              "    <tr>\n",
              "      <th>max</th>\n",
              "      <td>9.999861e+06</td>\n",
              "      <td>50.000000</td>\n",
              "      <td>49854.000000</td>\n",
              "    </tr>\n",
              "  </tbody>\n",
              "</table>\n",
              "</div>\n",
              "      <button class=\"colab-df-convert\" onclick=\"convertToInteractive('df-34b26ac4-be32-488d-98d5-e5f0a59b3295')\"\n",
              "              title=\"Convert this dataframe to an interactive table.\"\n",
              "              style=\"display:none;\">\n",
              "        \n",
              "  <svg xmlns=\"http://www.w3.org/2000/svg\" height=\"24px\"viewBox=\"0 0 24 24\"\n",
              "       width=\"24px\">\n",
              "    <path d=\"M0 0h24v24H0V0z\" fill=\"none\"/>\n",
              "    <path d=\"M18.56 5.44l.94 2.06.94-2.06 2.06-.94-2.06-.94-.94-2.06-.94 2.06-2.06.94zm-11 1L8.5 8.5l.94-2.06 2.06-.94-2.06-.94L8.5 2.5l-.94 2.06-2.06.94zm10 10l.94 2.06.94-2.06 2.06-.94-2.06-.94-.94-2.06-.94 2.06-2.06.94z\"/><path d=\"M17.41 7.96l-1.37-1.37c-.4-.4-.92-.59-1.43-.59-.52 0-1.04.2-1.43.59L10.3 9.45l-7.72 7.72c-.78.78-.78 2.05 0 2.83L4 21.41c.39.39.9.59 1.41.59.51 0 1.02-.2 1.41-.59l7.78-7.78 2.81-2.81c.8-.78.8-2.07 0-2.86zM5.41 20L4 18.59l7.72-7.72 1.47 1.35L5.41 20z\"/>\n",
              "  </svg>\n",
              "      </button>\n",
              "      \n",
              "  <style>\n",
              "    .colab-df-container {\n",
              "      display:flex;\n",
              "      flex-wrap:wrap;\n",
              "      gap: 12px;\n",
              "    }\n",
              "\n",
              "    .colab-df-convert {\n",
              "      background-color: #E8F0FE;\n",
              "      border: none;\n",
              "      border-radius: 50%;\n",
              "      cursor: pointer;\n",
              "      display: none;\n",
              "      fill: #1967D2;\n",
              "      height: 32px;\n",
              "      padding: 0 0 0 0;\n",
              "      width: 32px;\n",
              "    }\n",
              "\n",
              "    .colab-df-convert:hover {\n",
              "      background-color: #E2EBFA;\n",
              "      box-shadow: 0px 1px 2px rgba(60, 64, 67, 0.3), 0px 1px 3px 1px rgba(60, 64, 67, 0.15);\n",
              "      fill: #174EA6;\n",
              "    }\n",
              "\n",
              "    [theme=dark] .colab-df-convert {\n",
              "      background-color: #3B4455;\n",
              "      fill: #D2E3FC;\n",
              "    }\n",
              "\n",
              "    [theme=dark] .colab-df-convert:hover {\n",
              "      background-color: #434B5C;\n",
              "      box-shadow: 0px 1px 3px 1px rgba(0, 0, 0, 0.15);\n",
              "      filter: drop-shadow(0px 1px 2px rgba(0, 0, 0, 0.3));\n",
              "      fill: #FFFFFF;\n",
              "    }\n",
              "  </style>\n",
              "\n",
              "      <script>\n",
              "        const buttonEl =\n",
              "          document.querySelector('#df-34b26ac4-be32-488d-98d5-e5f0a59b3295 button.colab-df-convert');\n",
              "        buttonEl.style.display =\n",
              "          google.colab.kernel.accessAllowed ? 'block' : 'none';\n",
              "\n",
              "        async function convertToInteractive(key) {\n",
              "          const element = document.querySelector('#df-34b26ac4-be32-488d-98d5-e5f0a59b3295');\n",
              "          const dataTable =\n",
              "            await google.colab.kernel.invokeFunction('convertToInteractive',\n",
              "                                                     [key], {});\n",
              "          if (!dataTable) return;\n",
              "\n",
              "          const docLinkHtml = 'Like what you see? Visit the ' +\n",
              "            '<a target=\"_blank\" href=https://colab.research.google.com/notebooks/data_table.ipynb>data table notebook</a>'\n",
              "            + ' to learn more about interactive tables.';\n",
              "          element.innerHTML = '';\n",
              "          dataTable['output_type'] = 'display_data';\n",
              "          await google.colab.output.renderOutput(dataTable, element);\n",
              "          const docLink = document.createElement('div');\n",
              "          docLink.innerHTML = docLinkHtml;\n",
              "          element.appendChild(docLink);\n",
              "        }\n",
              "      </script>\n",
              "    </div>\n",
              "  </div>\n",
              "  "
            ]
          },
          "metadata": {},
          "execution_count": 4
        }
      ]
    },
    {
      "cell_type": "code",
      "source": [
        "df.info()"
      ],
      "metadata": {
        "id": "yezmqXpXs5g5",
        "colab": {
          "base_uri": "https://localhost:8080/"
        },
        "outputId": "297fa26f-39af-4087-ac45-e839615c1234"
      },
      "execution_count": null,
      "outputs": [
        {
          "output_type": "stream",
          "name": "stdout",
          "text": [
            "<class 'pandas.core.frame.DataFrame'>\n",
            "RangeIndex: 90189 entries, 0 to 90188\n",
            "Data columns (total 5 columns):\n",
            " #   Column          Non-Null Count  Dtype\n",
            "---  ------          --------------  -----\n",
            " 0   user_id         90189 non-null  int64\n",
            " 1   gate            90189 non-null  int64\n",
            " 2   gamerounds_sum  90189 non-null  int64\n",
            " 3   retention_day   90189 non-null  bool \n",
            " 4   retention_week  90189 non-null  bool \n",
            "dtypes: bool(2), int64(3)\n",
            "memory usage: 2.2 MB\n"
          ]
        }
      ]
    },
    {
      "cell_type": "code",
      "source": [
        "print(df['user_id'].dtype)\n",
        "print(df['gate'].dtype)\n",
        "print(df['gamerounds_sum'].dtype)\n",
        "print(df['retention_day'].dtype)\n",
        "print(df['retention_week'].dtype)"
      ],
      "metadata": {
        "id": "wXnnzgOzs-YH",
        "colab": {
          "base_uri": "https://localhost:8080/"
        },
        "outputId": "163aac2c-5723-4e81-cdbc-bb59affde514"
      },
      "execution_count": null,
      "outputs": [
        {
          "output_type": "stream",
          "name": "stdout",
          "text": [
            "int64\n",
            "int64\n",
            "int64\n",
            "bool\n",
            "bool\n"
          ]
        }
      ]
    },
    {
      "cell_type": "markdown",
      "source": [
        "**change gate to bool??**"
      ],
      "metadata": {
        "id": "3wDWmkevtjjN"
      }
    },
    {
      "cell_type": "code",
      "source": [
        "df['gate'].value_counts()"
      ],
      "metadata": {
        "colab": {
          "base_uri": "https://localhost:8080/"
        },
        "id": "apZs6J4nqjaq",
        "outputId": "9670e02f-9ab9-4741-da4d-f68bac1b839e"
      },
      "execution_count": null,
      "outputs": [
        {
          "output_type": "execute_result",
          "data": {
            "text/plain": [
              "50    45489\n",
              "30    44700\n",
              "Name: gate, dtype: int64"
            ]
          },
          "metadata": {},
          "execution_count": 7
        }
      ]
    },
    {
      "cell_type": "markdown",
      "source": [
        "## **Mine- EDA**"
      ],
      "metadata": {
        "id": "DcwfW-LyDXLI"
      }
    },
    {
      "cell_type": "markdown",
      "source": [
        "Number of values for each gate\n"
      ],
      "metadata": {
        "id": "gNqTcGCkwn9c"
      }
    },
    {
      "cell_type": "code",
      "source": [
        "gate_30= df[df['gate'] == 30]['user_id'].nunique()\n",
        "print(gate_30)    "
      ],
      "metadata": {
        "colab": {
          "base_uri": "https://localhost:8080/"
        },
        "id": "wMsrKGf_5kxe",
        "outputId": "c7b457cb-6ab7-4364-be4b-8b2bce47ae18"
      },
      "execution_count": null,
      "outputs": [
        {
          "output_type": "stream",
          "name": "stdout",
          "text": [
            "44700\n"
          ]
        }
      ]
    },
    {
      "cell_type": "code",
      "source": [
        "gate_50= df[df['gate'] == 50]['user_id'].nunique()\n",
        "print(gate_50)    "
      ],
      "metadata": {
        "colab": {
          "base_uri": "https://localhost:8080/"
        },
        "id": "7fY7N-5B9FPw",
        "outputId": "7a209075-9302-40d3-ec51-87d8abd07df2"
      },
      "execution_count": null,
      "outputs": [
        {
          "output_type": "stream",
          "name": "stdout",
          "text": [
            "45489\n"
          ]
        }
      ]
    },
    {
      "cell_type": "markdown",
      "source": [
        "**Retention day and gate**"
      ],
      "metadata": {
        "id": "_VvCo450BOkn"
      }
    },
    {
      "cell_type": "code",
      "source": [
        "rd = df.groupby(['gate', 'retention_day'])['user_id'].count()\n",
        "rd_df = pd.DataFrame(rd.unstack(level= 1))\n",
        "rd_df.head()"
      ],
      "metadata": {
        "colab": {
          "base_uri": "https://localhost:8080/",
          "height": 143
        },
        "id": "bwtgI4ycBUDA",
        "outputId": "52835470-073a-4e7a-9d53-c46f485c3c8a"
      },
      "execution_count": null,
      "outputs": [
        {
          "output_type": "execute_result",
          "data": {
            "text/plain": [
              "retention_day  False  True \n",
              "gate                       \n",
              "30             24666  20034\n",
              "50             25370  20119"
            ],
            "text/html": [
              "\n",
              "  <div id=\"df-cd603f71-d6d6-401d-bfd8-b5917d09c843\">\n",
              "    <div class=\"colab-df-container\">\n",
              "      <div>\n",
              "<style scoped>\n",
              "    .dataframe tbody tr th:only-of-type {\n",
              "        vertical-align: middle;\n",
              "    }\n",
              "\n",
              "    .dataframe tbody tr th {\n",
              "        vertical-align: top;\n",
              "    }\n",
              "\n",
              "    .dataframe thead th {\n",
              "        text-align: right;\n",
              "    }\n",
              "</style>\n",
              "<table border=\"1\" class=\"dataframe\">\n",
              "  <thead>\n",
              "    <tr style=\"text-align: right;\">\n",
              "      <th>retention_day</th>\n",
              "      <th>False</th>\n",
              "      <th>True</th>\n",
              "    </tr>\n",
              "    <tr>\n",
              "      <th>gate</th>\n",
              "      <th></th>\n",
              "      <th></th>\n",
              "    </tr>\n",
              "  </thead>\n",
              "  <tbody>\n",
              "    <tr>\n",
              "      <th>30</th>\n",
              "      <td>24666</td>\n",
              "      <td>20034</td>\n",
              "    </tr>\n",
              "    <tr>\n",
              "      <th>50</th>\n",
              "      <td>25370</td>\n",
              "      <td>20119</td>\n",
              "    </tr>\n",
              "  </tbody>\n",
              "</table>\n",
              "</div>\n",
              "      <button class=\"colab-df-convert\" onclick=\"convertToInteractive('df-cd603f71-d6d6-401d-bfd8-b5917d09c843')\"\n",
              "              title=\"Convert this dataframe to an interactive table.\"\n",
              "              style=\"display:none;\">\n",
              "        \n",
              "  <svg xmlns=\"http://www.w3.org/2000/svg\" height=\"24px\"viewBox=\"0 0 24 24\"\n",
              "       width=\"24px\">\n",
              "    <path d=\"M0 0h24v24H0V0z\" fill=\"none\"/>\n",
              "    <path d=\"M18.56 5.44l.94 2.06.94-2.06 2.06-.94-2.06-.94-.94-2.06-.94 2.06-2.06.94zm-11 1L8.5 8.5l.94-2.06 2.06-.94-2.06-.94L8.5 2.5l-.94 2.06-2.06.94zm10 10l.94 2.06.94-2.06 2.06-.94-2.06-.94-.94-2.06-.94 2.06-2.06.94z\"/><path d=\"M17.41 7.96l-1.37-1.37c-.4-.4-.92-.59-1.43-.59-.52 0-1.04.2-1.43.59L10.3 9.45l-7.72 7.72c-.78.78-.78 2.05 0 2.83L4 21.41c.39.39.9.59 1.41.59.51 0 1.02-.2 1.41-.59l7.78-7.78 2.81-2.81c.8-.78.8-2.07 0-2.86zM5.41 20L4 18.59l7.72-7.72 1.47 1.35L5.41 20z\"/>\n",
              "  </svg>\n",
              "      </button>\n",
              "      \n",
              "  <style>\n",
              "    .colab-df-container {\n",
              "      display:flex;\n",
              "      flex-wrap:wrap;\n",
              "      gap: 12px;\n",
              "    }\n",
              "\n",
              "    .colab-df-convert {\n",
              "      background-color: #E8F0FE;\n",
              "      border: none;\n",
              "      border-radius: 50%;\n",
              "      cursor: pointer;\n",
              "      display: none;\n",
              "      fill: #1967D2;\n",
              "      height: 32px;\n",
              "      padding: 0 0 0 0;\n",
              "      width: 32px;\n",
              "    }\n",
              "\n",
              "    .colab-df-convert:hover {\n",
              "      background-color: #E2EBFA;\n",
              "      box-shadow: 0px 1px 2px rgba(60, 64, 67, 0.3), 0px 1px 3px 1px rgba(60, 64, 67, 0.15);\n",
              "      fill: #174EA6;\n",
              "    }\n",
              "\n",
              "    [theme=dark] .colab-df-convert {\n",
              "      background-color: #3B4455;\n",
              "      fill: #D2E3FC;\n",
              "    }\n",
              "\n",
              "    [theme=dark] .colab-df-convert:hover {\n",
              "      background-color: #434B5C;\n",
              "      box-shadow: 0px 1px 3px 1px rgba(0, 0, 0, 0.15);\n",
              "      filter: drop-shadow(0px 1px 2px rgba(0, 0, 0, 0.3));\n",
              "      fill: #FFFFFF;\n",
              "    }\n",
              "  </style>\n",
              "\n",
              "      <script>\n",
              "        const buttonEl =\n",
              "          document.querySelector('#df-cd603f71-d6d6-401d-bfd8-b5917d09c843 button.colab-df-convert');\n",
              "        buttonEl.style.display =\n",
              "          google.colab.kernel.accessAllowed ? 'block' : 'none';\n",
              "\n",
              "        async function convertToInteractive(key) {\n",
              "          const element = document.querySelector('#df-cd603f71-d6d6-401d-bfd8-b5917d09c843');\n",
              "          const dataTable =\n",
              "            await google.colab.kernel.invokeFunction('convertToInteractive',\n",
              "                                                     [key], {});\n",
              "          if (!dataTable) return;\n",
              "\n",
              "          const docLinkHtml = 'Like what you see? Visit the ' +\n",
              "            '<a target=\"_blank\" href=https://colab.research.google.com/notebooks/data_table.ipynb>data table notebook</a>'\n",
              "            + ' to learn more about interactive tables.';\n",
              "          element.innerHTML = '';\n",
              "          dataTable['output_type'] = 'display_data';\n",
              "          await google.colab.output.renderOutput(dataTable, element);\n",
              "          const docLink = document.createElement('div');\n",
              "          docLink.innerHTML = docLinkHtml;\n",
              "          element.appendChild(docLink);\n",
              "        }\n",
              "      </script>\n",
              "    </div>\n",
              "  </div>\n",
              "  "
            ]
          },
          "metadata": {},
          "execution_count": 10
        }
      ]
    },
    {
      "cell_type": "code",
      "source": [
        "import matplotlib.pyplot as plt"
      ],
      "metadata": {
        "id": "8ICmK0cAujjl"
      },
      "execution_count": null,
      "outputs": []
    },
    {
      "cell_type": "code",
      "source": [
        "rd = df.groupby(['retention_day', 'gate'])['user_id'].count()\n",
        "rd_df = pd.DataFrame(rd.unstack(level= 1))\n",
        "rd_df.plot(kind='bar')\n",
        "plt.title('Retention day split by true/false')"
      ],
      "metadata": {
        "colab": {
          "base_uri": "https://localhost:8080/",
          "height": 510
        },
        "id": "R6MIlcbvCG40",
        "outputId": "65c26e6c-a32c-4624-882f-0809d7f31b94"
      },
      "execution_count": null,
      "outputs": [
        {
          "output_type": "execute_result",
          "data": {
            "text/plain": [
              "Text(0.5, 1.0, 'Retention day split by true/false')"
            ]
          },
          "metadata": {},
          "execution_count": 12
        },
        {
          "output_type": "display_data",
          "data": {
            "text/plain": [
              "<Figure size 640x480 with 1 Axes>"
            ],
            "image/png": "[encoded data removed]"
          },
          "metadata": {}
        }
      ]
    },
    {
      "cell_type": "code",
      "source": [
        "rd = df.groupby(['gate', 'retention_day'])['user_id'].count()\n",
        "rd_df = pd.DataFrame(rd.unstack(level= 1))\n",
        "rd_df.plot(kind='bar')\n",
        "plt.title('Retention day split by true/false')"
      ],
      "metadata": {
        "colab": {
          "base_uri": "https://localhost:8080/",
          "height": 492
        },
        "id": "Utmp3TYHvXUu",
        "outputId": "4075cc89-0312-413f-e563-4d75c8a71dc5"
      },
      "execution_count": null,
      "outputs": [
        {
          "output_type": "execute_result",
          "data": {
            "text/plain": [
              "Text(0.5, 1.0, 'Retention day split by true/false')"
            ]
          },
          "metadata": {},
          "execution_count": 13
        },
        {
          "output_type": "display_data",
          "data": {
            "text/plain": [
              "<Figure size 640x480 with 1 Axes>"
            ],
            "image/png": "[encoded data removed]"
          },
          "metadata": {}
        }
      ]
    },
    {
      "cell_type": "markdown",
      "source": [
        "**Retention week and gate**"
      ],
      "metadata": {
        "id": "spWHR_1jBKBe"
      }
    },
    {
      "cell_type": "code",
      "source": [
        "rw = df.groupby(['gate', 'retention_week'])['user_id'].count()\n",
        "rw_df = pd.DataFrame(rw.unstack(level= 1))\n",
        "rw_df.head()"
      ],
      "metadata": {
        "colab": {
          "base_uri": "https://localhost:8080/",
          "height": 143
        },
        "id": "pw494LSiBEbh",
        "outputId": "f01f5f44-2750-4eb9-9a79-10e647b333b4"
      },
      "execution_count": null,
      "outputs": [
        {
          "output_type": "execute_result",
          "data": {
            "text/plain": [
              "retention_week  False  True \n",
              "gate                        \n",
              "30              36198   8502\n",
              "50              37210   8279"
            ],
            "text/html": [
              "\n",
              "  <div id=\"df-cc99a008-fa53-4fe5-a0db-bb91fbcd1dc8\">\n",
              "    <div class=\"colab-df-container\">\n",
              "      <div>\n",
              "<style scoped>\n",
              "    .dataframe tbody tr th:only-of-type {\n",
              "        vertical-align: middle;\n",
              "    }\n",
              "\n",
              "    .dataframe tbody tr th {\n",
              "        vertical-align: top;\n",
              "    }\n",
              "\n",
              "    .dataframe thead th {\n",
              "        text-align: right;\n",
              "    }\n",
              "</style>\n",
              "<table border=\"1\" class=\"dataframe\">\n",
              "  <thead>\n",
              "    <tr style=\"text-align: right;\">\n",
              "      <th>retention_week</th>\n",
              "      <th>False</th>\n",
              "      <th>True</th>\n",
              "    </tr>\n",
              "    <tr>\n",
              "      <th>gate</th>\n",
              "      <th></th>\n",
              "      <th></th>\n",
              "    </tr>\n",
              "  </thead>\n",
              "  <tbody>\n",
              "    <tr>\n",
              "      <th>30</th>\n",
              "      <td>36198</td>\n",
              "      <td>8502</td>\n",
              "    </tr>\n",
              "    <tr>\n",
              "      <th>50</th>\n",
              "      <td>37210</td>\n",
              "      <td>8279</td>\n",
              "    </tr>\n",
              "  </tbody>\n",
              "</table>\n",
              "</div>\n",
              "      <button class=\"colab-df-convert\" onclick=\"convertToInteractive('df-cc99a008-fa53-4fe5-a0db-bb91fbcd1dc8')\"\n",
              "              title=\"Convert this dataframe to an interactive table.\"\n",
              "              style=\"display:none;\">\n",
              "        \n",
              "  <svg xmlns=\"http://www.w3.org/2000/svg\" height=\"24px\"viewBox=\"0 0 24 24\"\n",
              "       width=\"24px\">\n",
              "    <path d=\"M0 0h24v24H0V0z\" fill=\"none\"/>\n",
              "    <path d=\"M18.56 5.44l.94 2.06.94-2.06 2.06-.94-2.06-.94-.94-2.06-.94 2.06-2.06.94zm-11 1L8.5 8.5l.94-2.06 2.06-.94-2.06-.94L8.5 2.5l-.94 2.06-2.06.94zm10 10l.94 2.06.94-2.06 2.06-.94-2.06-.94-.94-2.06-.94 2.06-2.06.94z\"/><path d=\"M17.41 7.96l-1.37-1.37c-.4-.4-.92-.59-1.43-.59-.52 0-1.04.2-1.43.59L10.3 9.45l-7.72 7.72c-.78.78-.78 2.05 0 2.83L4 21.41c.39.39.9.59 1.41.59.51 0 1.02-.2 1.41-.59l7.78-7.78 2.81-2.81c.8-.78.8-2.07 0-2.86zM5.41 20L4 18.59l7.72-7.72 1.47 1.35L5.41 20z\"/>\n",
              "  </svg>\n",
              "      </button>\n",
              "      \n",
              "  <style>\n",
              "    .colab-df-container {\n",
              "      display:flex;\n",
              "      flex-wrap:wrap;\n",
              "      gap: 12px;\n",
              "    }\n",
              "\n",
              "    .colab-df-convert {\n",
              "      background-color: #E8F0FE;\n",
              "      border: none;\n",
              "      border-radius: 50%;\n",
              "      cursor: pointer;\n",
              "      display: none;\n",
              "      fill: #1967D2;\n",
              "      height: 32px;\n",
              "      padding: 0 0 0 0;\n",
              "      width: 32px;\n",
              "    }\n",
              "\n",
              "    .colab-df-convert:hover {\n",
              "      background-color: #E2EBFA;\n",
              "      box-shadow: 0px 1px 2px rgba(60, 64, 67, 0.3), 0px 1px 3px 1px rgba(60, 64, 67, 0.15);\n",
              "      fill: #174EA6;\n",
              "    }\n",
              "\n",
              "    [theme=dark] .colab-df-convert {\n",
              "      background-color: #3B4455;\n",
              "      fill: #D2E3FC;\n",
              "    }\n",
              "\n",
              "    [theme=dark] .colab-df-convert:hover {\n",
              "      background-color: #434B5C;\n",
              "      box-shadow: 0px 1px 3px 1px rgba(0, 0, 0, 0.15);\n",
              "      filter: drop-shadow(0px 1px 2px rgba(0, 0, 0, 0.3));\n",
              "      fill: #FFFFFF;\n",
              "    }\n",
              "  </style>\n",
              "\n",
              "      <script>\n",
              "        const buttonEl =\n",
              "          document.querySelector('#df-cc99a008-fa53-4fe5-a0db-bb91fbcd1dc8 button.colab-df-convert');\n",
              "        buttonEl.style.display =\n",
              "          google.colab.kernel.accessAllowed ? 'block' : 'none';\n",
              "\n",
              "        async function convertToInteractive(key) {\n",
              "          const element = document.querySelector('#df-cc99a008-fa53-4fe5-a0db-bb91fbcd1dc8');\n",
              "          const dataTable =\n",
              "            await google.colab.kernel.invokeFunction('convertToInteractive',\n",
              "                                                     [key], {});\n",
              "          if (!dataTable) return;\n",
              "\n",
              "          const docLinkHtml = 'Like what you see? Visit the ' +\n",
              "            '<a target=\"_blank\" href=https://colab.research.google.com/notebooks/data_table.ipynb>data table notebook</a>'\n",
              "            + ' to learn more about interactive tables.';\n",
              "          element.innerHTML = '';\n",
              "          dataTable['output_type'] = 'display_data';\n",
              "          await google.colab.output.renderOutput(dataTable, element);\n",
              "          const docLink = document.createElement('div');\n",
              "          docLink.innerHTML = docLinkHtml;\n",
              "          element.appendChild(docLink);\n",
              "        }\n",
              "      </script>\n",
              "    </div>\n",
              "  </div>\n",
              "  "
            ]
          },
          "metadata": {},
          "execution_count": 14
        }
      ]
    },
    {
      "cell_type": "code",
      "source": [
        "rw = df.groupby(['gate', 'retention_week'])['user_id'].count()\n",
        "rw_df = pd.DataFrame(rw.unstack(level= 1))\n",
        "rw_df.plot(kind='bar')\n",
        "plt.title('Retention week split by gate')"
      ],
      "metadata": {
        "colab": {
          "base_uri": "https://localhost:8080/",
          "height": 492
        },
        "id": "WqMPPV9muLRe",
        "outputId": "fdcb94e9-9ee1-4482-d4cc-dcd6bac0ea06"
      },
      "execution_count": null,
      "outputs": [
        {
          "output_type": "execute_result",
          "data": {
            "text/plain": [
              "Text(0.5, 1.0, 'Retention week split by gate')"
            ]
          },
          "metadata": {},
          "execution_count": 15
        },
        {
          "output_type": "display_data",
          "data": {
            "text/plain": [
              "<Figure size 640x480 with 1 Axes>"
            ],
            "image/png": "[encoded data removed]"
          },
          "metadata": {}
        }
      ]
    },
    {
      "cell_type": "code",
      "source": [
        "rw = df.groupby(['retention_week','gate'])['user_id'].count()\n",
        "rw_df = pd.DataFrame(rw.unstack(level= 1))\n",
        "rw_df.plot(kind='bar')\n",
        "plt.title('Retention week split by true/false')"
      ],
      "metadata": {
        "colab": {
          "base_uri": "https://localhost:8080/",
          "height": 510
        },
        "id": "x9K8xnt4B9AE",
        "outputId": "0c145ec6-b6c8-46b3-ce8a-a15baf82849b"
      },
      "execution_count": null,
      "outputs": [
        {
          "output_type": "execute_result",
          "data": {
            "text/plain": [
              "Text(0.5, 1.0, 'Retention week split by true/false')"
            ]
          },
          "metadata": {},
          "execution_count": 16
        },
        {
          "output_type": "display_data",
          "data": {
            "text/plain": [
              "<Figure size 640x480 with 1 Axes>"
            ],
            "image/png": "[encoded data removed]"
          },
          "metadata": {}
        }
      ]
    },
    {
      "cell_type": "code",
      "source": [
        "len(df)"
      ],
      "metadata": {
        "colab": {
          "base_uri": "https://localhost:8080/"
        },
        "id": "QkzjgM-bSevJ",
        "outputId": "4dd35b8c-53ae-4522-ac18-cf0a70dfcc23"
      },
      "execution_count": null,
      "outputs": [
        {
          "output_type": "execute_result",
          "data": {
            "text/plain": [
              "90189"
            ]
          },
          "metadata": {},
          "execution_count": 18
        }
      ]
    },
    {
      "cell_type": "markdown",
      "source": [
        "**retention week and retention day for gates**"
      ],
      "metadata": {
        "id": "WQPCONaYj_uV"
      }
    },
    {
      "cell_type": "code",
      "source": [
        "rw = df.groupby(['retention_week','gate','retention_day'])['user_id'].count()\n",
        "rw_df = pd.DataFrame(rw.unstack(level= 1))\n",
        "rw_df.plot(kind='bar')\n",
        "plt.title('Retention week split by true/false')"
      ],
      "metadata": {
        "colab": {
          "base_uri": "https://localhost:8080/",
          "height": 564
        },
        "id": "6-RXlwsl0MQ9",
        "outputId": "53f3f0f4-a461-47be-f01a-2ff79d63f7fc"
      },
      "execution_count": null,
      "outputs": [
        {
          "output_type": "execute_result",
          "data": {
            "text/plain": [
              "Text(0.5, 1.0, 'Retention week split by true/false')"
            ]
          },
          "metadata": {},
          "execution_count": 19
        },
        {
          "output_type": "display_data",
          "data": {
            "text/plain": [
              "<Figure size 640x480 with 1 Axes>"
            ],
            "image/png": "[encoded data removed]"
          },
          "metadata": {}
        }
      ]
    },
    {
      "cell_type": "code",
      "source": [
        "rw = df.groupby(['gate','retention_week','retention_day'])['user_id'].count()\n",
        "print(rw)"
      ],
      "metadata": {
        "colab": {
          "base_uri": "https://localhost:8080/"
        },
        "id": "JK6gEXKW0puy",
        "outputId": "c4112f16-59d6-4963-840d-d1b272b044b8"
      },
      "execution_count": null,
      "outputs": [
        {
          "output_type": "stream",
          "name": "stdout",
          "text": [
            "gate  retention_week  retention_day\n",
            "30    False           False            22840\n",
            "                      True             13358\n",
            "      True            False             1826\n",
            "                      True              6676\n",
            "50    False           False            23597\n",
            "                      True             13613\n",
            "      True            False             1773\n",
            "                      True              6506\n",
            "Name: user_id, dtype: int64\n"
          ]
        }
      ]
    },
    {
      "cell_type": "code",
      "source": [
        "#Gate 30\n",
        "import matplotlib.pyplot as plt\n",
        "from textwrap import wrap\n",
        "   \n",
        "labels= ['retention day = True and retention week = True ', 'retention day = True and retention week = False ', 'retention day = False and retention week = True ', 'retention day = False and retention week = False']\n",
        "count = [6676, 13358, 1826, 22840]\n",
        "labels = [ '\\n'.join(wrap(l, 12)) for l in labels ]\n",
        "\n",
        "plt.bar(labels, count)\n",
        "plt.title('Count for Gate at level 30')\n",
        "plt.xlabel('Labels')\n",
        "plt.ylabel('count')\n",
        "plt.show()"
      ],
      "metadata": {
        "colab": {
          "base_uri": "https://localhost:8080/",
          "height": 537
        },
        "id": "9V0_jD3VAev9",
        "outputId": "bcfa0a5d-e6ee-4609-b8ef-99f55e737728"
      },
      "execution_count": null,
      "outputs": [
        {
          "output_type": "display_data",
          "data": {
            "text/plain": [
              "<Figure size 640x480 with 1 Axes>"
            ],
            "image/png": "[encoded data removed]"
          },
          "metadata": {}
        }
      ]
    },
    {
      "cell_type": "code",
      "source": [
        "#Gate 50\n",
        "import matplotlib.pyplot as plt\n",
        "from textwrap import wrap\n",
        "   \n",
        "labels= ['retention day = True and retention week = True ', 'retention day = True and retention week = False ', 'retention day = False and retention week = True ', 'retention day = False and retention week = False']\n",
        "count = [6506, 13613, 1773, 23597]\n",
        "labels = [ '\\n'.join(wrap(l, 12)) for l in labels ]\n",
        "\n",
        "plt.bar(labels, count)\n",
        "plt.title('Count for Gate at level 30')\n",
        "plt.xlabel('Labels')\n",
        "plt.ylabel('count')\n",
        "plt.show()"
      ],
      "metadata": {
        "colab": {
          "base_uri": "https://localhost:8080/",
          "height": 537
        },
        "id": "T4l8Efm4Bkuo",
        "outputId": "b1e810a3-e32b-48a1-d3c2-c67fa4397dd9"
      },
      "execution_count": null,
      "outputs": [
        {
          "output_type": "display_data",
          "data": {
            "text/plain": [
              "<Figure size 640x480 with 1 Axes>"
            ],
            "image/png": "[encoded data removed]"
          },
          "metadata": {}
        }
      ]
    },
    {
      "cell_type": "code",
      "source": [
        "#Gate 50\n",
        "import matplotlib.pyplot as plt\n",
        "from textwrap import wrap\n",
        "\n",
        "   \n",
        "labels= ['retention day = True and retention week = True ', 'retention day = True and retention week = False ', 'retention day = False and retention week = True ', 'retention day = False and retention week = False']\n",
        "count_30 = [6676, 13358, 1826, 22840]\n",
        "count_50= [6506, 13613, 1773, 23597]\n",
        "\n",
        "labels = [ '\\n'.join(wrap(l, 12)) for l in labels ]\n",
        "\n",
        "X_axis = np.arange(len(labels))\n",
        "  \n",
        "plt.bar(X_axis - 0.2, count_30, 0.4, label = 'Gate 30', color = 'red')\n",
        "plt.bar(X_axis + 0.2, count_50, 0.4, label = 'Gate 50', color = 'orange')\n",
        "\n",
        "\n",
        "    \n",
        "plt.xticks(X_axis, labels)\n",
        "plt.title('Retention day and retention week for each gate')\n",
        "plt.xlabel('Labels')\n",
        "plt.ylabel('Count')\n",
        "plt.legend()\n",
        "plt.show()"
      ],
      "metadata": {
        "colab": {
          "base_uri": "https://localhost:8080/",
          "height": 537
        },
        "id": "gheCnllSBD-k",
        "outputId": "cd88aa1d-8029-4ff7-9b63-a56c0bfd168f"
      },
      "execution_count": null,
      "outputs": [
        {
          "output_type": "display_data",
          "data": {
            "text/plain": [
              "<Figure size 640x480 with 1 Axes>"
            ],
            "image/png": "[encoded data removed]"
          },
          "metadata": {}
        }
      ]
    },
    {
      "cell_type": "code",
      "source": [
        "#Gamerounds sum"
      ],
      "metadata": {
        "id": "A7nU9dbili8K"
      },
      "execution_count": null,
      "outputs": []
    },
    {
      "cell_type": "code",
      "source": [
        "thirty_total = 0\n",
        "fifty_total =0\n",
        "l = len(df)\n",
        "\n",
        "for i in range(len(df)):\n",
        "  if df['gate'][i] == 30:\n",
        "    thirty_total = thirty_total + df['gamerounds_sum'][i]\n",
        "    \n",
        "  elif df['gate'][i] == 50:\n",
        "    fifty_total = fifty_total + df['gamerounds_sum'][i]\n",
        "    \n",
        "\n",
        "print('Total Thirty: ', thirty_total)\n",
        "print('Total Fifty: ' ,fifty_total)\n",
        "print('Length: ', l)\n",
        "print(' ')\n",
        "print('Averages : Fifty average: ', (fifty_total/ 45489), 'Thirty Average: ', (thirty_total/44700))\n"
      ],
      "metadata": {
        "id": "xzZMBQbrw-YN",
        "colab": {
          "base_uri": "https://localhost:8080/"
        },
        "outputId": "4c94b50f-d2b7-4293-d510-07be940d8d1e"
      },
      "execution_count": null,
      "outputs": [
        {
          "output_type": "stream",
          "name": "stdout",
          "text": [
            "Total Thirty:  2344795\n",
            "Total Fifty:  2333530\n",
            "Length:  90189\n",
            " \n",
            "Averages : Fifty average:  51.29877552814966 Thirty Average:  52.45626398210291\n"
          ]
        }
      ]
    },
    {
      "cell_type": "code",
      "source": [
        "import matplotlib.pyplot as plt\n",
        "import statistics\n",
        "\n",
        "y_30 = []\n",
        "y_50 = []\n",
        "\n",
        "for i in range(len(df)):\n",
        "  if df['gate'][i] == 30:\n",
        "    y_30.append(df['gamerounds_sum'][i])\n",
        "  elif df['gate'][i] == 50:\n",
        "    y_50.append(df['gamerounds_sum'][i])\n",
        "\n",
        "print(max(y_30))\n",
        "print(max(y_50))\n",
        "\n",
        "print(statistics.mean(y_30))\n",
        "print(statistics.mean(y_50))\n",
        "\n",
        "print(statistics.quantiles(y_30))\n",
        "print(statistics.quantiles(y_50))"
      ],
      "metadata": {
        "id": "LZkJV7MgTOsW",
        "colab": {
          "base_uri": "https://localhost:8080/"
        },
        "outputId": "39d35af5-fc0e-4396-87f8-e43f7b5bd40d"
      },
      "execution_count": null,
      "outputs": [
        {
          "output_type": "stream",
          "name": "stdout",
          "text": [
            "49854\n",
            "2640\n",
            "52\n",
            "51\n",
            "[5.0, 17.0, 50.0]\n",
            "[5.0, 16.0, 52.0]\n"
          ]
        }
      ]
    },
    {
      "cell_type": "code",
      "source": [
        "#retention_day and gamerounds sum"
      ],
      "metadata": {
        "id": "QTREziGzi9Sg"
      },
      "execution_count": null,
      "outputs": []
    },
    {
      "cell_type": "code",
      "source": [
        "#gate 30"
      ],
      "metadata": {
        "id": "TAF1s9dGeKRZ"
      },
      "execution_count": null,
      "outputs": []
    },
    {
      "cell_type": "code",
      "source": [
        "#for gate 30 , retention day = false\n",
        "f= []\n",
        "for i in range(len(df)):\n",
        "  if df['gate'][i] ==30:\n",
        "    if df['retention_day'][i] == False:\n",
        "      f.append(df['gamerounds_sum'][i])\n",
        "#print(f)"
      ],
      "metadata": {
        "id": "h4mR9RJhi9O8"
      },
      "execution_count": null,
      "outputs": []
    },
    {
      "cell_type": "code",
      "source": [
        "print(max(f))\n",
        "print(statistics.mean(f))\n",
        "print(statistics.mode(f))\n",
        "print(statistics.quantiles(f))"
      ],
      "metadata": {
        "colab": {
          "base_uri": "https://localhost:8080/"
        },
        "id": "FtSdnIuMjMXm",
        "outputId": "f73b31f7-d7ee-449e-8eb8-8c130b84cd4d"
      },
      "execution_count": null,
      "outputs": [
        {
          "output_type": "stream",
          "name": "stdout",
          "text": [
            "49854\n",
            "18\n",
            "1\n",
            "[2.0, 6.0, 16.0]\n"
          ]
        }
      ]
    },
    {
      "cell_type": "code",
      "source": [
        "#for gate 30 , retention day = true\n",
        "t= []\n",
        "for i in range(len(df)):\n",
        "  if df['gate'][i] ==30:\n",
        "    if df['retention_day'][i] == True:\n",
        "      t.append(df['gamerounds_sum'][i])\n",
        "#print(f)\n",
        "\n",
        "print(max(t))\n",
        "print(statistics.mean(t))\n",
        "print(statistics.mode(t))\n",
        "print(statistics.quantiles(t))"
      ],
      "metadata": {
        "id": "iqbWbzkyjevH",
        "colab": {
          "base_uri": "https://localhost:8080/"
        },
        "outputId": "078ca888-659a-42e6-f8c1-637f9955649b"
      },
      "execution_count": null,
      "outputs": [
        {
          "output_type": "stream",
          "name": "stdout",
          "text": [
            "2961\n",
            "94\n",
            "15\n",
            "[22.0, 48.0, 111.0]\n"
          ]
        }
      ]
    },
    {
      "cell_type": "code",
      "source": [
        "#gate 50"
      ],
      "metadata": {
        "id": "6vczEg6Bd-GL"
      },
      "execution_count": null,
      "outputs": []
    },
    {
      "cell_type": "code",
      "source": [
        "#for gate 50 , retention day = false\n",
        "f= []\n",
        "for i in range(len(df)):\n",
        "  if df['gate'][i] ==50:\n",
        "    if df['retention_day'][i] == False:\n",
        "      f.append(df['gamerounds_sum'][i])\n",
        "#print(f)\n",
        "print(max(f))\n",
        "print(statistics.mean(f))\n",
        "print(statistics.mode(f))\n",
        "print(statistics.quantiles(f))"
      ],
      "metadata": {
        "colab": {
          "base_uri": "https://localhost:8080/"
        },
        "id": "A3iNdAhDd-Bq",
        "outputId": "cb0a5c49-312a-49a2-ea05-d077fac6ddcb"
      },
      "execution_count": null,
      "outputs": [
        {
          "output_type": "stream",
          "name": "stdout",
          "text": [
            "1241\n",
            "16\n",
            "1\n",
            "[2.0, 6.0, 16.0]\n"
          ]
        }
      ]
    },
    {
      "cell_type": "code",
      "source": [
        "#for gate 50 , retention day = true\n",
        "t= []\n",
        "for i in range(len(df)):\n",
        "  if df['gate'][i] ==50:\n",
        "    if df['retention_day'][i] == True:\n",
        "      t.append(df['gamerounds_sum'][i])\n",
        "#print(f)\n",
        "\n",
        "print(max(t))\n",
        "print(statistics.mean(t))\n",
        "print(statistics.mode(t))\n",
        "print(statistics.quantiles(t))"
      ],
      "metadata": {
        "colab": {
          "base_uri": "https://localhost:8080/"
        },
        "id": "HlkxnbNjeQHH",
        "outputId": "d21f887d-6e67-4049-cc57-23e27c3f0b69"
      },
      "execution_count": null,
      "outputs": [
        {
          "output_type": "stream",
          "name": "stdout",
          "text": [
            "2640\n",
            "95\n",
            "11\n",
            "[21.0, 49.0, 112.0]\n"
          ]
        }
      ]
    },
    {
      "cell_type": "code",
      "source": [
        "#retention_week and gamerounds_sum"
      ],
      "metadata": {
        "id": "PRWGOPEKjtvd"
      },
      "execution_count": null,
      "outputs": []
    },
    {
      "cell_type": "code",
      "source": [
        "#for gate 30 , retention week = false\n",
        "f= []\n",
        "for i in range(len(df)):\n",
        "  if df['gate'][i] ==30:\n",
        "    if df['retention_week'][i] == False:\n",
        "      f.append(df['gamerounds_sum'][i])\n",
        "#print(f)\n",
        "\n",
        "print(max(f))\n",
        "print(statistics.mean(f))\n",
        "print(statistics.mode(f))\n",
        "print(statistics.quantiles(f))"
      ],
      "metadata": {
        "colab": {
          "base_uri": "https://localhost:8080/"
        },
        "id": "dyfWy-4pgmbZ",
        "outputId": "8791468f-dc5e-4710-fa61-66e320d9474e"
      },
      "execution_count": null,
      "outputs": [
        {
          "output_type": "stream",
          "name": "stdout",
          "text": [
            "981\n",
            "25\n",
            "1\n",
            "[4.0, 11.0, 31.0]\n"
          ]
        }
      ]
    },
    {
      "cell_type": "code",
      "source": [
        "#for gate 30 , retention week = true\n",
        "t= []\n",
        "for i in range(len(df)):\n",
        "  if df['gate'][i] ==30:\n",
        "    if df['retention_week'][i] == True:\n",
        "      t.append(df['gamerounds_sum'][i])\n",
        "#print(f)\n",
        "\n",
        "print(max(t))\n",
        "print(statistics.mean(t))\n",
        "print(statistics.mode(t))\n",
        "print(statistics.quantiles(t))"
      ],
      "metadata": {
        "colab": {
          "base_uri": "https://localhost:8080/"
        },
        "id": "r9MICnmOg7xz",
        "outputId": "91621a37-1852-4729-eeea-2b2ad3042689"
      },
      "execution_count": null,
      "outputs": [
        {
          "output_type": "stream",
          "name": "stdout",
          "text": [
            "49854\n",
            "165\n",
            "44\n",
            "[48.0, 105.0, 208.0]\n"
          ]
        }
      ]
    },
    {
      "cell_type": "code",
      "source": [
        "#for gate 50 , retention week = false\n",
        "f= []\n",
        "for i in range(len(df)):\n",
        "  if df['gate'][i] ==50:\n",
        "    if df['retention_week'][i] == False:\n",
        "      f.append(df['gamerounds_sum'][i])\n",
        "#print(f)\n",
        "print(max(f))\n",
        "print(statistics.mean(f))\n",
        "print(statistics.mode(f))\n",
        "print(statistics.quantiles(f))"
      ],
      "metadata": {
        "colab": {
          "base_uri": "https://localhost:8080/"
        },
        "id": "ml45g8BVg7uq",
        "outputId": "0b451cd6-3ec0-4d8f-8967-996686707584"
      },
      "execution_count": null,
      "outputs": [
        {
          "output_type": "stream",
          "name": "stdout",
          "text": [
            "2640\n",
            "25\n",
            "1\n",
            "[4.0, 11.0, 30.0]\n"
          ]
        }
      ]
    },
    {
      "cell_type": "code",
      "source": [
        "#for gate 50 , retention week = true\n",
        "t= []\n",
        "for i in range(len(df)):\n",
        "  if df['gate'][i] ==50:\n",
        "    if df['retention_week'][i] == True:\n",
        "      t.append(df['gamerounds_sum'][i])\n",
        "#print(f)\n",
        "\n",
        "print(max(t))\n",
        "print(statistics.mean(t))\n",
        "print(statistics.mode(t))\n",
        "print(statistics.quantiles(t))"
      ],
      "metadata": {
        "colab": {
          "base_uri": "https://localhost:8080/"
        },
        "id": "jsd_nF1jhGaz",
        "outputId": "010896c5-0095-4e86-ed05-30c5066a3041"
      },
      "execution_count": null,
      "outputs": [
        {
          "output_type": "stream",
          "name": "stdout",
          "text": [
            "2294\n",
            "165\n",
            "19\n",
            "[52.0, 111.0, 211.0]\n"
          ]
        }
      ]
    },
    {
      "cell_type": "markdown",
      "source": [
        "All columns together"
      ],
      "metadata": {
        "id": "TVMm8PB7CDZu"
      }
    },
    {
      "cell_type": "code",
      "source": [
        "#retention day and retention week for gate 30\n",
        "tt_30=[]\n",
        "tf_30=[]\n",
        "ft_30=[]\n",
        "ff_30=[]\n",
        "l = len(df)\n",
        "\n",
        "for i in range(len(df)):\n",
        "  if df['gate'][i] == 30 and ( df['retention_day'][i]== True) and df['retention_week'][i]== True:\n",
        "    tt_30.append(df['gamerounds_sum'][i])\n",
        "  elif df['gate'][i] == 30 and df['retention_day'][i]== True and df['retention_week'][i]== False:\n",
        "    tf_30.append(df['gamerounds_sum'][i])\n",
        "  elif df['gate'][i] == 30 and df['retention_day'][i]== False and df['retention_week'][i]== True:\n",
        "    ft_30.append(df['gamerounds_sum'][i])\n",
        "  elif df['gate'][i] == 30 and df['retention_day'][i]== False and df['retention_week'][i]== False:\n",
        "    ff_30.append(df['gamerounds_sum'][i])\n",
        "\n",
        "\n",
        "#print(tt_30)\n",
        "#print(tf_30)\n",
        "#print(ft_30)\n",
        "#print(ff_30) "
      ],
      "metadata": {
        "id": "ulK5xGdb7WiE"
      },
      "execution_count": null,
      "outputs": []
    },
    {
      "cell_type": "code",
      "source": [
        "#retention day and retention week for gate 50\n",
        "tt_50=[]\n",
        "tf_50=[]\n",
        "ft_50=[]\n",
        "ff_50=[]\n",
        "l = len(df)\n",
        "\n",
        "for i in range(len(df)):\n",
        "  if df['gate'][i] == 50 and ( df['retention_day'][i]== True) and df['retention_week'][i]== True:\n",
        "    tt_50.append(df['gamerounds_sum'][i])\n",
        "  elif df['gate'][i] == 50 and df['retention_day'][i]== True and df['retention_week'][i]== False:\n",
        "    tf_50.append(df['gamerounds_sum'][i])\n",
        "  elif df['gate'][i] == 50 and df['retention_day'][i]== False and df['retention_week'][i]== True:\n",
        "    ft_50.append(df['gamerounds_sum'][i])\n",
        "  elif df['gate'][i] == 50 and df['retention_day'][i]== False and df['retention_week'][i]== False:\n",
        "    ff_50.append(df['gamerounds_sum'][i])\n",
        "\n",
        "\n",
        "#print(tt_50)\n",
        "#print(tf_50)\n",
        "#print(ft_50)\n",
        "#print(ff_50)    "
      ],
      "metadata": {
        "id": "kzbXTQjUCazA"
      },
      "execution_count": null,
      "outputs": []
    },
    {
      "cell_type": "code",
      "source": [
        "#Average/ Means\n",
        "import statistics\n",
        "t= []\n",
        "f=[]\n",
        "t.append(statistics.mean(tt_30))\n",
        "t.append(statistics.mean(tf_30))\n",
        "t.append(statistics.mean(ft_30))\n",
        "t.append(statistics.mean(ff_30)) \n",
        "\n",
        "f.append(statistics.mean(tt_50))\n",
        "f.append(statistics.mean(tf_50))\n",
        "f.append(statistics.mean(ft_50))\n",
        "f.append(statistics.mean(ff_50))\n",
        "\n"
      ],
      "metadata": {
        "id": "jupChHQEwzMj"
      },
      "execution_count": null,
      "outputs": []
    },
    {
      "cell_type": "code",
      "source": [
        "import matplotlib.pyplot as plt\n",
        "from textwrap import wrap\n",
        "\n",
        "   \n",
        "labels= ['retention day = True and retention week = True ', 'retention day = True and retention week = False ', 'retention day = False and retention week = True ', 'retention day = False and retention week = False']\n",
        "\n",
        "\n",
        "labels = [ '\\n'.join(wrap(l, 12)) for l in labels ]\n",
        "\n",
        "X_axis = np.arange(len(labels))\n",
        "  \n",
        "plt.bar(X_axis - 0.2, t, 0.4, label = 'Gate 30', color = 'red')\n",
        "plt.bar(X_axis + 0.2, f, 0.4, label = 'Gate 50', color = 'orange')\n",
        "\n",
        "\n",
        "    \n",
        "plt.xticks(X_axis, labels)\n",
        "plt.title('Average gamerounds sum')\n",
        "plt.xlabel('Labels')\n",
        "plt.ylabel('Count')\n",
        "plt.legend()\n",
        "plt.show()"
      ],
      "metadata": {
        "colab": {
          "base_uri": "https://localhost:8080/",
          "height": 537
        },
        "id": "0bLX4Q9hxr-p",
        "outputId": "3a6e9560-4af7-43ca-985a-0ef6df47147d"
      },
      "execution_count": null,
      "outputs": [
        {
          "output_type": "display_data",
          "data": {
            "text/plain": [
              "<Figure size 640x480 with 1 Axes>"
            ],
            "image/png": "[encoded data removed]"
          },
          "metadata": {}
        }
      ]
    },
    {
      "cell_type": "code",
      "source": [
        "print(max(tt_30))"
      ],
      "metadata": {
        "colab": {
          "base_uri": "https://localhost:8080/"
        },
        "id": "ADEPLafXz-sO",
        "outputId": "c6bda80a-ea3b-478f-ca26-adf05d6a6108"
      },
      "execution_count": null,
      "outputs": [
        {
          "output_type": "stream",
          "name": "stdout",
          "text": [
            "2961\n"
          ]
        }
      ]
    },
    {
      "cell_type": "code",
      "source": [
        "#mode\n",
        "\n",
        "t_mode= []\n",
        "f_mode=[]\n",
        "t_mode.append(statistics.mode(tt_30))\n",
        "t_mode.append(statistics.mode(tf_30))\n",
        "t_mode.append(statistics.mode(ft_30))\n",
        "t_mode.append(statistics.mode(ff_30)) \n",
        "\n",
        "f_mode.append(statistics.mode(tt_50))\n",
        "f_mode.append(statistics.mode(tf_50))\n",
        "f_mode.append(statistics.mode(ft_50))\n",
        "f_mode.append(statistics.mode(ff_50))\n",
        "\n",
        "print(t_mode)\n",
        "f_mode"
      ],
      "metadata": {
        "colab": {
          "base_uri": "https://localhost:8080/"
        },
        "id": "gqSj0UQswzJT",
        "outputId": "025fc1f2-d9c5-4124-ed27-186f7cffc633"
      },
      "execution_count": null,
      "outputs": [
        {
          "output_type": "stream",
          "name": "stdout",
          "text": [
            "[55, 8, 4, 1]\n"
          ]
        },
        {
          "output_type": "execute_result",
          "data": {
            "text/plain": [
              "[69, 11, 14, 1]"
            ]
          },
          "metadata": {},
          "execution_count": 45
        }
      ]
    },
    {
      "cell_type": "code",
      "source": [
        "import matplotlib.pyplot as plt\n",
        "from textwrap import wrap\n",
        "  \n",
        "labels= ['retention day = True and retention week = True ', 'retention day = True and retention week = False ', 'retention day = False and retention week = True ', 'retention day = False and retention week = False']\n",
        "\n",
        "labels = [ '\\n'.join(wrap(l, 12)) for l in labels ]\n",
        "\n",
        "X_axis = np.arange(len(labels))\n",
        "  \n",
        "plt.bar(X_axis - 0.2, t_mode, 0.4, label = 'Gate 30', color = 'red')\n",
        "plt.bar(X_axis + 0.2, f_mode, 0.4, label = 'Gate 50', color = 'orange')\n",
        "\n",
        "plt.xticks(X_axis, labels)\n",
        "plt.title('Mode gamerounds sum')\n",
        "plt.xlabel('Labels')\n",
        "plt.ylabel('Count')\n",
        "plt.legend()\n",
        "plt.show()"
      ],
      "metadata": {
        "colab": {
          "base_uri": "https://localhost:8080/",
          "height": 537
        },
        "id": "jJwUYjoszZaE",
        "outputId": "069252a1-94f8-431e-fca6-df240ee744d0"
      },
      "execution_count": null,
      "outputs": [
        {
          "output_type": "display_data",
          "data": {
            "text/plain": [
              "<Figure size 640x480 with 1 Axes>"
            ],
            "image/png": "[encoded data removed]"
          },
          "metadata": {}
        }
      ]
    },
    {
      "cell_type": "markdown",
      "source": [
        "dont include max - graph doesnt work"
      ],
      "metadata": {
        "id": "6barxsRq1q_W"
      }
    },
    {
      "cell_type": "code",
      "source": [
        "#quantiles"
      ],
      "metadata": {
        "id": "lrWWNL0A3dq2"
      },
      "execution_count": null,
      "outputs": []
    },
    {
      "cell_type": "code",
      "source": [
        "\n",
        "t_quantiles= []\n",
        "f_quantiles=[]\n",
        "t_quantiles.append(statistics.quantiles(tt_30))\n",
        "t_quantiles.append(statistics.quantiles(tf_30))\n",
        "t_quantiles.append(statistics.quantiles(ft_30))\n",
        "t_quantiles.append(statistics.quantiles(ff_30)) \n",
        "\n",
        "f_quantiles.append(statistics.quantiles(tt_50))\n",
        "f_quantiles.append(statistics.quantiles(tf_50))\n",
        "f_quantiles.append(statistics.quantiles(ft_50))\n",
        "f_quantiles.append(statistics.quantiles(ff_50))\n",
        "\n",
        "print(t_quantiles)\n",
        "print( )\n",
        "f_quantiles\n"
      ],
      "metadata": {
        "colab": {
          "base_uri": "https://localhost:8080/"
        },
        "id": "CO97IF4r3dnU",
        "outputId": "c274ef65-b281-48d3-98b6-1b06f12d1d10"
      },
      "execution_count": null,
      "outputs": [
        {
          "output_type": "stream",
          "name": "stdout",
          "text": [
            "[[64.0, 127.0, 237.0], [16.0, 33.0, 60.0], [19.0, 43.0, 90.0], [2.0, 6.0, 14.0]]\n",
            "\n"
          ]
        },
        {
          "output_type": "execute_result",
          "data": {
            "text/plain": [
              "[[69.0, 133.0, 243.0],\n",
              " [16.0, 32.0, 63.0],\n",
              " [19.0, 47.0, 98.0],\n",
              " [2.0, 6.0, 14.0]]"
            ]
          },
          "metadata": {},
          "execution_count": 48
        }
      ]
    },
    {
      "cell_type": "code",
      "source": [
        "#30 quantiles\n",
        "import matplotlib.pyplot as plt\n",
        "\n",
        "d = {'retention day = True and retention week = True': t_quantiles[0], 'retention day = True and retention week = False ': t_quantiles[1], 'retention day = False and retention week = True': t_quantiles[2] , 'retention day = False and retention week = False': t_quantiles[3]}\n",
        "colors = list(\"rgbk\")\n",
        "\n",
        "fig, ax = plt.subplots()\n",
        "\n",
        "for x, ys in d.items():\n",
        "    ax.scatter([x] * len(ys), ys, color = colors.pop(), label=x)\n",
        "\n",
        "plt.legend()\n",
        "plt.show()"
      ],
      "metadata": {
        "colab": {
          "base_uri": "https://localhost:8080/",
          "height": 363
        },
        "id": "PQPOS4K-7SfE",
        "outputId": "a30b74b3-1ccb-4d61-c2f7-b951914edd20"
      },
      "execution_count": null,
      "outputs": [
        {
          "output_type": "display_data",
          "data": {
            "text/plain": [
              "<Figure size 640x480 with 1 Axes>"
            ],
            "image/png": "[encoded data removed]"
          },
          "metadata": {}
        }
      ]
    },
    {
      "cell_type": "code",
      "source": [
        "import matplotlib.pyplot as plt\n",
        "\n",
        "d = {'retention day = True and retention week = True': f_quantiles[0], 'retention day = True and retention week = False ': f_quantiles[1], 'retention day = False and retention week = True': f_quantiles[2] , 'retention day = False and retention week = False': f_quantiles[3]}\n",
        "colors = list(\"rgbk\")\n",
        "\n",
        "fig, ax = plt.subplots()\n",
        "\n",
        "for x, ys in d.items():\n",
        "    ax.scatter([x] * len(ys), ys, color = colors.pop(), label=x)\n",
        "\n",
        "plt.legend()\n",
        "plt.show()"
      ],
      "metadata": {
        "colab": {
          "base_uri": "https://localhost:8080/",
          "height": 363
        },
        "id": "glw6IRsc9Ok7",
        "outputId": "b2f477d0-7f41-47c2-d474-a418c791a53f"
      },
      "execution_count": null,
      "outputs": [
        {
          "output_type": "display_data",
          "data": {
            "text/plain": [
              "<Figure size 640x480 with 1 Axes>"
            ],
            "image/png": "[encoded data removed]"
          },
          "metadata": {}
        }
      ]
    },
    {
      "cell_type": "code",
      "source": [
        "# looks no different need table"
      ],
      "metadata": {
        "id": "JSW4pHG95rGs"
      },
      "execution_count": null,
      "outputs": []
    },
    {
      "cell_type": "markdown",
      "source": [
        "## **A/B Testing**"
      ],
      "metadata": {
        "id": "RaGvDu-oXNOb"
      }
    },
    {
      "cell_type": "markdown",
      "source": [
        "A/B testing refers to a randomized experiment\n",
        "which evaluates which variant performs better."
      ],
      "metadata": {
        "id": "1FRDzOcaD5r8"
      }
    },
    {
      "cell_type": "markdown",
      "source": [
        "What is desired outcome of test? what is our hypothesis?\n",
        "\n",
        "what is the metrci we are trying to impact ie. page views, conversions?\n",
        "\n",
        "will we get enough traffic to our site to reachs tatitical signicane and make a decision in tijmely manner?"
      ],
      "metadata": {
        "id": "q9vclv_8EYiL"
      }
    },
    {
      "cell_type": "markdown",
      "source": [
        "A big benefit of running A/B tests is we can\n",
        "be confident that the increase in the relevant\n",
        "metrics was due to the action we took in the\n",
        "test."
      ],
      "metadata": {
        "id": "ItueS_HkEsPR"
      }
    },
    {
      "cell_type": "code",
      "source": [
        "df"
      ],
      "metadata": {
        "colab": {
          "base_uri": "https://localhost:8080/",
          "height": 423
        },
        "id": "Nsxp8xxoV6A1",
        "outputId": "aa5900c4-fa21-49c2-c07c-8ffcbf6838c8"
      },
      "execution_count": null,
      "outputs": [
        {
          "output_type": "execute_result",
          "data": {
            "text/plain": [
              "       user_id  gate  gamerounds_sum  retention_day  retention_week\n",
              "0          116    30               3          False           False\n",
              "1          337    30              38           True           False\n",
              "2          377    50             165           True           False\n",
              "3          483    50               1          False           False\n",
              "4          488    50             179           True            True\n",
              "...        ...   ...             ...            ...             ...\n",
              "90184  9999441    50              97           True           False\n",
              "90185  9999479    50              30          False           False\n",
              "90186  9999710    30              28           True           False\n",
              "90187  9999768    50              51           True           False\n",
              "90188  9999861    50              16          False           False\n",
              "\n",
              "[90189 rows x 5 columns]"
            ],
            "text/html": [
              "\n",
              "  <div id=\"df-001b1cf1-eca5-43e4-bb0e-f036bd5c90f9\">\n",
              "    <div class=\"colab-df-container\">\n",
              "      <div>\n",
              "<style scoped>\n",
              "    .dataframe tbody tr th:only-of-type {\n",
              "        vertical-align: middle;\n",
              "    }\n",
              "\n",
              "    .dataframe tbody tr th {\n",
              "        vertical-align: top;\n",
              "    }\n",
              "\n",
              "    .dataframe thead th {\n",
              "        text-align: right;\n",
              "    }\n",
              "</style>\n",
              "<table border=\"1\" class=\"dataframe\">\n",
              "  <thead>\n",
              "    <tr style=\"text-align: right;\">\n",
              "      <th></th>\n",
              "      <th>user_id</th>\n",
              "      <th>gate</th>\n",
              "      <th>gamerounds_sum</th>\n",
              "      <th>retention_day</th>\n",
              "      <th>retention_week</th>\n",
              "    </tr>\n",
              "  </thead>\n",
              "  <tbody>\n",
              "    <tr>\n",
              "      <th>0</th>\n",
              "      <td>116</td>\n",
              "      <td>30</td>\n",
              "      <td>3</td>\n",
              "      <td>False</td>\n",
              "      <td>False</td>\n",
              "    </tr>\n",
              "    <tr>\n",
              "      <th>1</th>\n",
              "      <td>337</td>\n",
              "      <td>30</td>\n",
              "      <td>38</td>\n",
              "      <td>True</td>\n",
              "      <td>False</td>\n",
              "    </tr>\n",
              "    <tr>\n",
              "      <th>2</th>\n",
              "      <td>377</td>\n",
              "      <td>50</td>\n",
              "      <td>165</td>\n",
              "      <td>True</td>\n",
              "      <td>False</td>\n",
              "    </tr>\n",
              "    <tr>\n",
              "      <th>3</th>\n",
              "      <td>483</td>\n",
              "      <td>50</td>\n",
              "      <td>1</td>\n",
              "      <td>False</td>\n",
              "      <td>False</td>\n",
              "    </tr>\n",
              "    <tr>\n",
              "      <th>4</th>\n",
              "      <td>488</td>\n",
              "      <td>50</td>\n",
              "      <td>179</td>\n",
              "      <td>True</td>\n",
              "      <td>True</td>\n",
              "    </tr>\n",
              "    <tr>\n",
              "      <th>...</th>\n",
              "      <td>...</td>\n",
              "      <td>...</td>\n",
              "      <td>...</td>\n",
              "      <td>...</td>\n",
              "      <td>...</td>\n",
              "    </tr>\n",
              "    <tr>\n",
              "      <th>90184</th>\n",
              "      <td>9999441</td>\n",
              "      <td>50</td>\n",
              "      <td>97</td>\n",
              "      <td>True</td>\n",
              "      <td>False</td>\n",
              "    </tr>\n",
              "    <tr>\n",
              "      <th>90185</th>\n",
              "      <td>9999479</td>\n",
              "      <td>50</td>\n",
              "      <td>30</td>\n",
              "      <td>False</td>\n",
              "      <td>False</td>\n",
              "    </tr>\n",
              "    <tr>\n",
              "      <th>90186</th>\n",
              "      <td>9999710</td>\n",
              "      <td>30</td>\n",
              "      <td>28</td>\n",
              "      <td>True</td>\n",
              "      <td>False</td>\n",
              "    </tr>\n",
              "    <tr>\n",
              "      <th>90187</th>\n",
              "      <td>9999768</td>\n",
              "      <td>50</td>\n",
              "      <td>51</td>\n",
              "      <td>True</td>\n",
              "      <td>False</td>\n",
              "    </tr>\n",
              "    <tr>\n",
              "      <th>90188</th>\n",
              "      <td>9999861</td>\n",
              "      <td>50</td>\n",
              "      <td>16</td>\n",
              "      <td>False</td>\n",
              "      <td>False</td>\n",
              "    </tr>\n",
              "  </tbody>\n",
              "</table>\n",
              "<p>90189 rows × 5 columns</p>\n",
              "</div>\n",
              "      <button class=\"colab-df-convert\" onclick=\"convertToInteractive('df-001b1cf1-eca5-43e4-bb0e-f036bd5c90f9')\"\n",
              "              title=\"Convert this dataframe to an interactive table.\"\n",
              "              style=\"display:none;\">\n",
              "        \n",
              "  <svg xmlns=\"http://www.w3.org/2000/svg\" height=\"24px\"viewBox=\"0 0 24 24\"\n",
              "       width=\"24px\">\n",
              "    <path d=\"M0 0h24v24H0V0z\" fill=\"none\"/>\n",
              "    <path d=\"M18.56 5.44l.94 2.06.94-2.06 2.06-.94-2.06-.94-.94-2.06-.94 2.06-2.06.94zm-11 1L8.5 8.5l.94-2.06 2.06-.94-2.06-.94L8.5 2.5l-.94 2.06-2.06.94zm10 10l.94 2.06.94-2.06 2.06-.94-2.06-.94-.94-2.06-.94 2.06-2.06.94z\"/><path d=\"M17.41 7.96l-1.37-1.37c-.4-.4-.92-.59-1.43-.59-.52 0-1.04.2-1.43.59L10.3 9.45l-7.72 7.72c-.78.78-.78 2.05 0 2.83L4 21.41c.39.39.9.59 1.41.59.51 0 1.02-.2 1.41-.59l7.78-7.78 2.81-2.81c.8-.78.8-2.07 0-2.86zM5.41 20L4 18.59l7.72-7.72 1.47 1.35L5.41 20z\"/>\n",
              "  </svg>\n",
              "      </button>\n",
              "      \n",
              "  <style>\n",
              "    .colab-df-container {\n",
              "      display:flex;\n",
              "      flex-wrap:wrap;\n",
              "      gap: 12px;\n",
              "    }\n",
              "\n",
              "    .colab-df-convert {\n",
              "      background-color: #E8F0FE;\n",
              "      border: none;\n",
              "      border-radius: 50%;\n",
              "      cursor: pointer;\n",
              "      display: none;\n",
              "      fill: #1967D2;\n",
              "      height: 32px;\n",
              "      padding: 0 0 0 0;\n",
              "      width: 32px;\n",
              "    }\n",
              "\n",
              "    .colab-df-convert:hover {\n",
              "      background-color: #E2EBFA;\n",
              "      box-shadow: 0px 1px 2px rgba(60, 64, 67, 0.3), 0px 1px 3px 1px rgba(60, 64, 67, 0.15);\n",
              "      fill: #174EA6;\n",
              "    }\n",
              "\n",
              "    [theme=dark] .colab-df-convert {\n",
              "      background-color: #3B4455;\n",
              "      fill: #D2E3FC;\n",
              "    }\n",
              "\n",
              "    [theme=dark] .colab-df-convert:hover {\n",
              "      background-color: #434B5C;\n",
              "      box-shadow: 0px 1px 3px 1px rgba(0, 0, 0, 0.15);\n",
              "      filter: drop-shadow(0px 1px 2px rgba(0, 0, 0, 0.3));\n",
              "      fill: #FFFFFF;\n",
              "    }\n",
              "  </style>\n",
              "\n",
              "      <script>\n",
              "        const buttonEl =\n",
              "          document.querySelector('#df-001b1cf1-eca5-43e4-bb0e-f036bd5c90f9 button.colab-df-convert');\n",
              "        buttonEl.style.display =\n",
              "          google.colab.kernel.accessAllowed ? 'block' : 'none';\n",
              "\n",
              "        async function convertToInteractive(key) {\n",
              "          const element = document.querySelector('#df-001b1cf1-eca5-43e4-bb0e-f036bd5c90f9');\n",
              "          const dataTable =\n",
              "            await google.colab.kernel.invokeFunction('convertToInteractive',\n",
              "                                                     [key], {});\n",
              "          if (!dataTable) return;\n",
              "\n",
              "          const docLinkHtml = 'Like what you see? Visit the ' +\n",
              "            '<a target=\"_blank\" href=https://colab.research.google.com/notebooks/data_table.ipynb>data table notebook</a>'\n",
              "            + ' to learn more about interactive tables.';\n",
              "          element.innerHTML = '';\n",
              "          dataTable['output_type'] = 'display_data';\n",
              "          await google.colab.output.renderOutput(dataTable, element);\n",
              "          const docLink = document.createElement('div');\n",
              "          docLink.innerHTML = docLinkHtml;\n",
              "          element.appendChild(docLink);\n",
              "        }\n",
              "      </script>\n",
              "    </div>\n",
              "  </div>\n",
              "  "
            ]
          },
          "metadata": {},
          "execution_count": 52
        }
      ]
    },
    {
      "cell_type": "code",
      "source": [
        "groups = df.groupby(['gate'])['user_id'].nunique()\n",
        "print(groups)"
      ],
      "metadata": {
        "colab": {
          "base_uri": "https://localhost:8080/"
        },
        "id": "KVAyS9KYW09k",
        "outputId": "aace2fc8-db64-478b-8557-934815b43cbc"
      },
      "execution_count": null,
      "outputs": [
        {
          "output_type": "stream",
          "name": "stdout",
          "text": [
            "gate\n",
            "30    44700\n",
            "50    45489\n",
            "Name: user_id, dtype: int64\n"
          ]
        }
      ]
    },
    {
      "cell_type": "code",
      "source": [
        "played_next_day= df[df['retention_day']==True]['user_id'].nunique()\n",
        "print(played_next_day)\n",
        "played_next_day= df[df['retention_day']==True].groupby(['gate'])['user_id'].nunique()\n",
        "print(played_next_day)\n",
        "\n",
        "didnt_play_next_day= df[df['retention_day']==False]['user_id'].nunique()\n",
        "print(didnt_play_next_day)\n",
        "didnt_play_next_day= df[df['retention_day']==False].groupby(['gate'])['user_id'].nunique()\n",
        "print(didnt_play_next_day)"
      ],
      "metadata": {
        "colab": {
          "base_uri": "https://localhost:8080/"
        },
        "id": "0cFF2RhIY0cR",
        "outputId": "c2a9efe0-db53-4a6c-eee3-b1172bf0ab96"
      },
      "execution_count": null,
      "outputs": [
        {
          "output_type": "stream",
          "name": "stdout",
          "text": [
            "40153\n",
            "gate\n",
            "30    20034\n",
            "50    20119\n",
            "Name: user_id, dtype: int64\n",
            "50036\n",
            "gate\n",
            "30    24666\n",
            "50    25370\n",
            "Name: user_id, dtype: int64\n"
          ]
        }
      ]
    },
    {
      "cell_type": "code",
      "source": [
        "print((played_next_day/groups)*100)\n",
        "print((didnt_play_next_day/groups)*100)"
      ],
      "metadata": {
        "colab": {
          "base_uri": "https://localhost:8080/"
        },
        "id": "GO38WdfSaTvU",
        "outputId": "5786f912-e41d-4fe2-cf44-251fa190ee4e"
      },
      "execution_count": null,
      "outputs": [
        {
          "output_type": "stream",
          "name": "stdout",
          "text": [
            "gate\n",
            "30    44.818792\n",
            "50    44.228275\n",
            "Name: user_id, dtype: float64\n",
            "gate\n",
            "30    55.181208\n",
            "50    55.771725\n",
            "Name: user_id, dtype: float64\n"
          ]
        }
      ]
    },
    {
      "cell_type": "code",
      "source": [
        "played_next_week= df[df['retention_week']==True]['user_id'].nunique()\n",
        "print(played_next_week)\n",
        "played_next_week= df[df['retention_week']==True].groupby(['gate'])['user_id'].nunique()\n",
        "print(played_next_week)\n",
        "\n",
        "didnt_play_next_week= df[df['retention_week']==False]['user_id'].nunique()\n",
        "print(didnt_play_next_week)\n",
        "didnt_play_next_week= df[df['retention_week']==False].groupby(['gate'])['user_id'].nunique()\n",
        "print(didnt_play_next_week)\n",
        "\n",
        "print((played_next_week/groups)*100)\n",
        "print((didnt_play_next_week/groups)*100)"
      ],
      "metadata": {
        "colab": {
          "base_uri": "https://localhost:8080/"
        },
        "id": "qhMMv6qbX-kg",
        "outputId": "656e0d7e-6f48-4b47-80fb-fdd9f341716d"
      },
      "execution_count": null,
      "outputs": [
        {
          "output_type": "stream",
          "name": "stdout",
          "text": [
            "16781\n",
            "gate\n",
            "30    8502\n",
            "50    8279\n",
            "Name: user_id, dtype: int64\n",
            "73408\n",
            "gate\n",
            "30    36198\n",
            "50    37210\n",
            "Name: user_id, dtype: int64\n",
            "gate\n",
            "30    19.020134\n",
            "50    18.200004\n",
            "Name: user_id, dtype: float64\n",
            "gate\n",
            "30    80.979866\n",
            "50    81.799996\n",
            "Name: user_id, dtype: float64\n"
          ]
        }
      ]
    },
    {
      "cell_type": "code",
      "source": [
        "gate_30 = df[df['gate']== 30]\n",
        "\n",
        "alloc = gate_30.groupby(['retention_day'])['user_id'].nunique()\n",
        "# Plot a bar chart of the test allocation\n",
        "import matplotlib.pyplot as plt\n",
        "\n",
        "alloc.plot(kind='bar')\n",
        "plt.title(' ')\n",
        "plt.ylabel('count of people')\n",
        "plt.show()"
      ],
      "metadata": {
        "colab": {
          "base_uri": "https://localhost:8080/",
          "height": 493
        },
        "id": "4lbbZLEDcAHu",
        "outputId": "dcdeed1a-77f9-493e-ecc2-b83299a9d409"
      },
      "execution_count": null,
      "outputs": [
        {
          "output_type": "display_data",
          "data": {
            "text/plain": [
              "<Figure size 640x480 with 1 Axes>"
            ],
            "image/png": "[encoded data removed]"
          },
          "metadata": {}
        }
      ]
    },
    {
      "cell_type": "code",
      "source": [
        "gate_30 = df[df['gate']== 30]\n",
        "\n",
        "alloc = gate_30.groupby(['retention_week'])['user_id'].nunique()\n",
        "# Plot a bar chart of the test allocation\n",
        "import matplotlib.pyplot as plt\n",
        "\n",
        "alloc.plot(kind='bar')\n",
        "plt.title(' ')\n",
        "plt.ylabel('count of people')\n",
        "plt.show()"
      ],
      "metadata": {
        "colab": {
          "base_uri": "https://localhost:8080/",
          "height": 493
        },
        "id": "9_ga32rWdLy3",
        "outputId": "69e92b7a-3a70-42cf-a470-5c64079f3172"
      },
      "execution_count": null,
      "outputs": [
        {
          "output_type": "display_data",
          "data": {
            "text/plain": [
              "<Figure size 640x480 with 1 Axes>"
            ],
            "image/png": "[encoded data removed]"
          },
          "metadata": {}
        }
      ]
    },
    {
      "cell_type": "code",
      "source": [
        "gate_50 = df[df['gate']== 50]\n",
        "\n",
        "alloc = gate_30.groupby(['retention_day'])['user_id'].nunique()\n",
        "# Plot a bar chart of the test allocation\n",
        "import matplotlib.pyplot as plt\n",
        "\n",
        "alloc.plot(kind='bar')\n",
        "plt.title(' ')\n",
        "plt.ylabel('count of people')\n",
        "plt.show()"
      ],
      "metadata": {
        "colab": {
          "base_uri": "https://localhost:8080/",
          "height": 493
        },
        "id": "Yxg1EYT3dc0Q",
        "outputId": "2e75580d-1f8a-45a9-9dee-6b89fbcac6d8"
      },
      "execution_count": null,
      "outputs": [
        {
          "output_type": "display_data",
          "data": {
            "text/plain": [
              "<Figure size 640x480 with 1 Axes>"
            ],
            "image/png": "[encoded data removed]"
          },
          "metadata": {}
        }
      ]
    },
    {
      "cell_type": "code",
      "source": [
        "gate_30 = df[df['gate']== 50]\n",
        "\n",
        "alloc = gate_30.groupby(['retention_week'])['user_id'].nunique()\n",
        "\n",
        "import matplotlib.pyplot as plt\n",
        "alloc.plot(kind='bar')\n",
        "plt.title(' ')\n",
        "plt.ylabel('count of people')\n",
        "plt.show()"
      ],
      "metadata": {
        "colab": {
          "base_uri": "https://localhost:8080/",
          "height": 493
        },
        "id": "W_qY2BhRdfgP",
        "outputId": "320897fa-361e-488c-b34c-52e7efdae59f"
      },
      "execution_count": null,
      "outputs": [
        {
          "output_type": "display_data",
          "data": {
            "text/plain": [
              "<Figure size 640x480 with 1 Axes>"
            ],
            "image/png": "[encoded data removed]"
          },
          "metadata": {}
        }
      ]
    },
    {
      "cell_type": "markdown",
      "source": [
        "Tutorial 7"
      ],
      "metadata": {
        "id": "CINPscgtDb3q"
      }
    },
    {
      "cell_type": "code",
      "source": [
        "alloc = df.groupby(['gate'])['user_id'].nunique()\n",
        "import matplotlib.pyplot as plt\n",
        "alloc.plot(kind='bar')\n",
        "plt.title('  ')\n",
        "plt.ylabel('# participants')\n",
        "plt.show()"
      ],
      "metadata": {
        "colab": {
          "base_uri": "https://localhost:8080/",
          "height": 475
        },
        "id": "7UjDVfWTJrPU",
        "outputId": "7a4ab153-65e2-480c-b521-c64a5e649ff1"
      },
      "execution_count": null,
      "outputs": [
        {
          "output_type": "display_data",
          "data": {
            "text/plain": [
              "<Figure size 640x480 with 1 Axes>"
            ],
            "image/png": "[encoded data removed]"
          },
          "metadata": {}
        }
      ]
    },
    {
      "cell_type": "markdown",
      "source": [
        "Allocation is relatively even, but not\n",
        "exactly the same. typically the case"
      ],
      "metadata": {
        "id": "oAvyMeo9KJca"
      }
    },
    {
      "cell_type": "markdown",
      "source": [
        "Do this for retention day and retention week"
      ],
      "metadata": {
        "id": "-DyTx7JBM-Km"
      }
    },
    {
      "cell_type": "markdown",
      "source": [
        "retention day"
      ],
      "metadata": {
        "id": "HCyoLlJZNCS6"
      }
    },
    {
      "cell_type": "code",
      "source": [
        "# Group marketing by user_id and variant\n",
        "a = df.groupby(['user_id', 'gate'])['retention_day'].max()\n",
        "a_df = pd.DataFrame(a.unstack(level=1)) \n",
        "print(a_df)"
      ],
      "metadata": {
        "colab": {
          "base_uri": "https://localhost:8080/"
        },
        "id": "eZZ7ASmWJt6Z",
        "outputId": "7d54398f-74a1-47bd-e340-24a952e322d7"
      },
      "execution_count": null,
      "outputs": [
        {
          "output_type": "stream",
          "name": "stdout",
          "text": [
            "gate        30     50\n",
            "user_id              \n",
            "116      False    NaN\n",
            "337       True    NaN\n",
            "377        NaN   True\n",
            "483        NaN  False\n",
            "488        NaN   True\n",
            "...        ...    ...\n",
            "9999441    NaN   True\n",
            "9999479    NaN  False\n",
            "9999710   True    NaN\n",
            "9999768    NaN   True\n",
            "9999861    NaN  False\n",
            "\n",
            "[90189 rows x 2 columns]\n"
          ]
        }
      ]
    },
    {
      "cell_type": "code",
      "source": [
        "thirty_day= a_df[30].dropna()\n",
        "fifty_day=a_df[50].dropna()"
      ],
      "metadata": {
        "id": "RVLcJHmTkCXO"
      },
      "execution_count": null,
      "outputs": []
    },
    {
      "cell_type": "code",
      "source": [
        "# Calculate % of converted users in each group\n",
        "import numpy as np\n",
        "\n",
        "print('Gate 30 retention day rate :', np.mean(thirty_day))\n",
        "print('Gate 50 retention day rate:', np.mean(fifty_day))"
      ],
      "metadata": {
        "colab": {
          "base_uri": "https://localhost:8080/"
        },
        "id": "R-aI-Os8k0AN",
        "outputId": "650a759a-0c30-45d2-86d9-17242663bfec"
      },
      "execution_count": null,
      "outputs": [
        {
          "output_type": "stream",
          "name": "stdout",
          "text": [
            "Gate 30 retention day rate : 0.4481879194630872\n",
            "Gate 50 retention day rate: 0.44228274967574577\n"
          ]
        }
      ]
    },
    {
      "cell_type": "markdown",
      "source": [
        "retention week"
      ],
      "metadata": {
        "id": "KkfTkQwoNFHA"
      }
    },
    {
      "cell_type": "code",
      "source": [
        "# Group marketing by user_id and variant\n",
        "b = df.groupby(['user_id', 'gate'])['retention_week'].max()\n",
        "b_df = pd.DataFrame(b.unstack(level=1)) \n",
        "print(b_df)"
      ],
      "metadata": {
        "colab": {
          "base_uri": "https://localhost:8080/"
        },
        "id": "_UhQjfQ3NGls",
        "outputId": "5635214d-682e-4330-f2a4-676998179981"
      },
      "execution_count": null,
      "outputs": [
        {
          "output_type": "stream",
          "name": "stdout",
          "text": [
            "gate        30     50\n",
            "user_id              \n",
            "116      False    NaN\n",
            "337      False    NaN\n",
            "377        NaN  False\n",
            "483        NaN  False\n",
            "488        NaN   True\n",
            "...        ...    ...\n",
            "9999441    NaN  False\n",
            "9999479    NaN  False\n",
            "9999710  False    NaN\n",
            "9999768    NaN  False\n",
            "9999861    NaN  False\n",
            "\n",
            "[90189 rows x 2 columns]\n"
          ]
        }
      ]
    },
    {
      "cell_type": "code",
      "source": [
        "thirty_week= b_df[30].dropna()\n",
        "fifty_week=b_df[50].dropna()"
      ],
      "metadata": {
        "id": "OTkxMbM5lLR5"
      },
      "execution_count": null,
      "outputs": []
    },
    {
      "cell_type": "code",
      "source": [
        "# Calculate % of converted users in each group\n",
        "import numpy as np\n",
        "\n",
        "print('Gate 30 retention week rate :', np.mean(thirty_week))\n",
        "print('Gate 50 retention week rate:', np.mean(fifty_week))"
      ],
      "metadata": {
        "colab": {
          "base_uri": "https://localhost:8080/"
        },
        "id": "_UP9nRi6OyoJ",
        "outputId": "f55e3407-2774-404a-ca6b-0e2e458ec4ed"
      },
      "execution_count": null,
      "outputs": [
        {
          "output_type": "stream",
          "name": "stdout",
          "text": [
            "Gate 30 retention week rate : 0.19020134228187918\n",
            "Gate 50 retention week rate: 0.18200004396667327\n"
          ]
        }
      ]
    },
    {
      "cell_type": "code",
      "source": [
        "mtd = np.mean(thirty_day)\n",
        "mfd = np.mean(fifty_day)\n",
        "mtw = np.mean(thirty_week)\n",
        "mfw = np.mean(fifty_week)"
      ],
      "metadata": {
        "id": "1tWZUu1dld3I"
      },
      "execution_count": null,
      "outputs": []
    },
    {
      "cell_type": "markdown",
      "source": [
        "Calculating Lift and Significance Test"
      ],
      "metadata": {
        "id": "rU2MgJ9cP5Rh"
      }
    },
    {
      "cell_type": "markdown",
      "source": [
        "Retention Day"
      ],
      "metadata": {
        "id": "_00RWXOzl9ed"
      }
    },
    {
      "cell_type": "code",
      "source": [
        "day_lift = ((mfd - mtd)/mtd)\n",
        "\n",
        "print(day_lift)\n",
        "print(\"Lift: \", str(round(day_lift*100, 2)) + '%')"
      ],
      "metadata": {
        "colab": {
          "base_uri": "https://localhost:8080/"
        },
        "id": "UB2RURhNQTO_",
        "outputId": "24478bf8-c6f5-413e-cbdd-2b09621e827d"
      },
      "execution_count": null,
      "outputs": [
        {
          "output_type": "stream",
          "name": "stdout",
          "text": [
            "-0.01317565585974659\n",
            "Lift:  -1.32%\n"
          ]
        }
      ]
    },
    {
      "cell_type": "markdown",
      "source": [
        "It disimproved by 1.32%. This is a bad sign so we should not consider moving it to gate 50 as it would disimproved the next day  retention rate by 1.32%"
      ],
      "metadata": {
        "id": "KiCpLb6Co_nw"
      }
    },
    {
      "cell_type": "code",
      "source": [
        "from scipy.stats import ttest_ind\n",
        "\n",
        "thirty_day = thirty_day.astype(float)\n",
        "fifty_day = fifty_day.astype(float)\n",
        "\n",
        "t = ttest_ind(thirty_day, fifty_day)\n",
        "\n",
        "print(t)"
      ],
      "metadata": {
        "colab": {
          "base_uri": "https://localhost:8080/"
        },
        "id": "bGJCVnU8YNLI",
        "outputId": "f0584af7-b4af-4ed5-8ea3-8cd6c4d1bf9e"
      },
      "execution_count": null,
      "outputs": [
        {
          "output_type": "stream",
          "name": "stdout",
          "text": [
            "Ttest_indResult(statistic=1.7840979256519656, pvalue=0.07441111525563184)\n"
          ]
        }
      ]
    },
    {
      "cell_type": "markdown",
      "source": [
        "Since p-value here is **not** less than 0.05 and\n",
        "the t-statistic is not less than -1.96, we\n",
        "can **not** be confident that the difference in\n",
        "conversion rates is statistically significant."
      ],
      "metadata": {
        "id": "xefFG1IJqboG"
      }
    },
    {
      "cell_type": "markdown",
      "source": [
        "Retention Week"
      ],
      "metadata": {
        "id": "xoaIuuHPl_JC"
      }
    },
    {
      "cell_type": "code",
      "source": [
        "week_lift = ((mfw - mtw)/mfw)\n",
        "\n",
        "print(week_lift)\n",
        "print(\"Lift: \", str(round(week_lift*100, 2)) + '%')"
      ],
      "metadata": {
        "colab": {
          "base_uri": "https://localhost:8080/"
        },
        "id": "mFel6MPgmzZD",
        "outputId": "a80e0e66-9f2d-4db1-c2be-d9c011a26c93"
      },
      "execution_count": null,
      "outputs": [
        {
          "output_type": "stream",
          "name": "stdout",
          "text": [
            "-0.04506206776910276\n",
            "Lift:  -4.51%\n"
          ]
        }
      ]
    },
    {
      "cell_type": "markdown",
      "source": [
        "It disimproved by 4.51%. This is a bad sign so we should not consider moving it to gate 50 as it would disimproved the next week retention rate by 4.51%"
      ],
      "metadata": {
        "id": "9Y9bytekpc7H"
      }
    },
    {
      "cell_type": "code",
      "source": [
        "from scipy.stats import ttest_ind\n",
        "\n",
        "thirty_week = thirty_week.astype(float)\n",
        "fifty_week = fifty_week.astype(float)\n",
        "\n",
        "t = ttest_ind(thirty_week, fifty_week)\n",
        "\n",
        "print(t)"
      ],
      "metadata": {
        "colab": {
          "base_uri": "https://localhost:8080/"
        },
        "id": "SAufgW3iRbUp",
        "outputId": "1984c76e-222a-4267-f2da-af69e9e1559e"
      },
      "execution_count": null,
      "outputs": [
        {
          "output_type": "stream",
          "name": "stdout",
          "text": [
            "Ttest_indResult(statistic=3.1644994996802778, pvalue=0.0015540151201088365)\n"
          ]
        }
      ]
    },
    {
      "cell_type": "markdown",
      "source": [
        "Since p-value here is less than 0.05, we\n",
        "**can** be confident that the difference in\n",
        "conversion rates is statistically significant."
      ],
      "metadata": {
        "id": "eLJF3mYSp32a"
      }
    },
    {
      "cell_type": "code",
      "source": [],
      "metadata": {
        "id": "euKCLiNYox9P"
      },
      "execution_count": null,
      "outputs": []
    }
  ]
}